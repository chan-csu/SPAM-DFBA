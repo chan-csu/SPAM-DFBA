{
 "cells": [
  {
   "cell_type": "markdown",
   "metadata": {},
   "source": [
    "# IJO1366-Tyr-Phe-Auxotrophs\n",
    "\n",
    "This notebook contains simulations for IJO1366-Tyr-Phe-Auxotrophs environment where two Ecoli auxotroph agents are learning to interact from scratch. For this simulation we need to use faster LP solvers \n",
    "as we are dealing with very large metabolic models. Here we used Gurobi. "
   ]
  },
  {
   "cell_type": "code",
   "execution_count": 1,
   "metadata": {},
   "outputs": [
    {
     "name": "stderr",
     "output_type": "stream",
     "text": [
      "2023-10-31 11:15:37,533\tINFO worker.py:1642 -- Started a local Ray instance.\n"
     ]
    },
    {
     "name": "stdout",
     "output_type": "stream",
     "text": [
      "Set parameter Username\n",
      "Academic license - for non-commercial use only - expires 2024-02-17\n"
     ]
    },
    {
     "name": "stderr",
     "output_type": "stream",
     "text": [
      "WARNING:cobra.medium.boundary_types:Could not identify an external compartment by name and choosing one with the most boundary reactions. That might be complete nonsense or change suddenly. Consider renaming your compartments using `Model.compartments` to fix this.\n",
      "WARNING:cobra.medium.boundary_types:Could not identify an external compartment by name and choosing one with the most boundary reactions. That might be complete nonsense or change suddenly. Consider renaming your compartments using `Model.compartments` to fix this.\n",
      "WARNING:cobra.medium.boundary_types:Could not identify an external compartment by name and choosing one with the most boundary reactions. That might be complete nonsense or change suddenly. Consider renaming your compartments using `Model.compartments` to fix this.\n",
      "WARNING:cobra.medium.boundary_types:Could not identify an external compartment by name and choosing one with the most boundary reactions. That might be complete nonsense or change suddenly. Consider renaming your compartments using `Model.compartments` to fix this.\n",
      "WARNING:cobra.medium.boundary_types:Could not identify an external compartment by name and choosing one with the most boundary reactions. That might be complete nonsense or change suddenly. Consider renaming your compartments using `Model.compartments` to fix this.\n",
      "WARNING:cobra.medium.boundary_types:Could not identify an external compartment by name and choosing one with the most boundary reactions. That might be complete nonsense or change suddenly. Consider renaming your compartments using `Model.compartments` to fix this.\n",
      "WARNING:cobra.medium.boundary_types:Could not identify an external compartment by name and choosing one with the most boundary reactions. That might be complete nonsense or change suddenly. Consider renaming your compartments using `Model.compartments` to fix this.\n",
      "WARNING:cobra.medium.boundary_types:Could not identify an external compartment by name and choosing one with the most boundary reactions. That might be complete nonsense or change suddenly. Consider renaming your compartments using `Model.compartments` to fix this.\n",
      "WARNING:cobra.medium.boundary_types:Could not identify an external compartment by name and choosing one with the most boundary reactions. That might be complete nonsense or change suddenly. Consider renaming your compartments using `Model.compartments` to fix this.\n",
      "WARNING:cobra.medium.boundary_types:Could not identify an external compartment by name and choosing one with the most boundary reactions. That might be complete nonsense or change suddenly. Consider renaming your compartments using `Model.compartments` to fix this.\n"
     ]
    }
   ],
   "source": [
    "from spamdfba import toolkit as tk\n",
    "from spamdfba import toymodels as tm\n",
    "import torch\n",
    "import torch.nn as nn\n",
    "import numpy as np\n",
    "import pandas as pd\n",
    "import pickle\n",
    "import os\n",
    "import warnings\n",
    "import rich\n",
    "import json\n",
    "import cobra"
   ]
  },
  {
   "cell_type": "code",
   "execution_count": 2,
   "metadata": {},
   "outputs": [],
   "source": [
    "NUM_CORES = 8\n",
    "warnings.filterwarnings(\"ignore\")"
   ]
  },
  {
   "cell_type": "code",
   "execution_count": 3,
   "metadata": {},
   "outputs": [
    {
     "name": "stdout",
     "output_type": "stream",
     "text": [
      "Read LP format model from file /var/folders/jk/fr50qn391k794svhntbw333c0000gn/T/tmpi5v_02_k.lp\n",
      "Reading time = 0.01 seconds\n",
      ": 1805 rows, 5166 columns, 20366 nonzeros\n",
      "Read LP format model from file /var/folders/jk/fr50qn391k794svhntbw333c0000gn/T/tmpef33aako.lp\n",
      "Reading time = 0.01 seconds\n",
      ": 1805 rows, 5166 columns, 20366 nonzeros\n",
      "Read LP format model from file /var/folders/jk/fr50qn391k794svhntbw333c0000gn/T/tmpq5d6ql7_.lp\n",
      "Reading time = 0.01 seconds\n",
      ": 1805 rows, 5166 columns, 20366 nonzeros\n"
     ]
    },
    {
     "data": {
      "text/html": [
       "<pre style=\"white-space:pre;overflow-x:auto;line-height:normal;font-family:Menlo,'DejaVu Sans Mono',consolas,'Courier New',monospace\"><span style=\"color: #008000; text-decoration-color: #008000\">Non of the KOs can grow without auxotrophy: Running </span><span style=\"color: #008000; text-decoration-color: #008000; font-weight: bold\">(</span><span style=\"color: #008000; text-decoration-color: #008000\">'tyrA'</span><span style=\"color: #008000; text-decoration-color: #008000\">, </span><span style=\"color: #008000; text-decoration-color: #008000\">'pheA'</span><span style=\"color: #008000; text-decoration-color: #008000; font-weight: bold\">)</span>\n",
       "</pre>\n"
      ],
      "text/plain": [
       "\u001b[32mNon of the KOs can grow without auxotrophy: Running \u001b[0m\u001b[1;32m(\u001b[0m\u001b[32m'tyrA'\u001b[0m\u001b[32m, \u001b[0m\u001b[32m'pheA'\u001b[0m\u001b[1;32m)\u001b[0m\n"
      ]
     },
     "metadata": {},
     "output_type": "display_data"
    }
   ],
   "source": [
    "model_base = cobra.io.read_sbml_model(\"iJO1366.xml\")\n",
    "medium = model_base.medium.copy()\n",
    "test_model = model_base.copy()\n",
    "\n",
    "knockouts_gene_names = [\n",
    "    \"tyrA\",\n",
    "    \"pheA\",\n",
    "]\n",
    "\n",
    "exchange_reactions = {\n",
    "    \"tyrA\": \"EX_tyr__L_e\",\n",
    "    \"pheA\": \"EX_phe__L_e\",\n",
    "}\n",
    "\n",
    "exchange_species = {}\n",
    "exchange_mets = {}\n",
    "for i in exchange_reactions.items():\n",
    "    exchange_mets[i[0]] = list(test_model.reactions.get_by_id(i[1]).metabolites.keys())[\n",
    "        0\n",
    "    ].id\n",
    "\n",
    "gene_ids = {}\n",
    "for ko_gene in knockouts_gene_names:\n",
    "    for gene in test_model.genes:\n",
    "        if gene.name == ko_gene:\n",
    "            gene_ids[ko_gene] = gene.id\n",
    "\n",
    "            \n",
    "\n",
    "\n",
    "\n",
    "\n",
    "ic={\n",
    "    key.lstrip(\"EX_\"):3 for key,val in model_base.medium.items() \n",
    "}\n",
    "\n",
    "ic['glc__D_e']=500\n",
    "ic['agent1']=0.1\n",
    "ic['agent2']=0.1\n",
    "for ko in [(\"tyrA\",\"pheA\")]:\n",
    "    model1 = model_base.copy()\n",
    "    model2 = model_base.copy()\n",
    "    model1.remove_reactions([model1.reactions.get_by_id('PPND')]) ## Tyrosine Mutant\n",
    "    model2.remove_reactions([model2.reactions.get_by_id('PPNDH')]) ## Phenylalanine Mutant\n",
    "    model1.exchange_reactions = tuple([model1.reactions.index(i) for i in model1.exchanges])\n",
    "    model2.exchange_reactions = tuple([model2.reactions.index(i) for i in model2.exchanges])\n",
    "    model1.biomass_ind=model1.reactions.index(\"BIOMASS_Ec_iJO1366_core_53p95M\")\n",
    "    model2.biomass_ind=model2.reactions.index(\"BIOMASS_Ec_iJO1366_core_53p95M\")\n",
    "    model1.solver = \"gurobi\"\n",
    "    model2.solver = \"gurobi\"\n",
    "    if model1.optimize().objective_value != 0 or model2.optimize().objective_value != 0:\n",
    "        rich.print(f\"[yellow]Skipping {ko} because at least one organism can grow without auxotrophy\")\n",
    "        continue\n",
    "    else:\n",
    "        rich.print(f\"[green]Non of the KOs can grow without auxotrophy: Running {ko}\")\n",
    "    ko_name = ko[0] + \"_\" + ko[1]\n",
    "    agent1 = tk.Agent(\n",
    "        \"agent1\",\n",
    "        model=model1,\n",
    "        actor_network=tk.NN,\n",
    "        critic_network=tk.NN,\n",
    "        clip=0.1,\n",
    "        lr_actor=0.0001,\n",
    "        lr_critic=0.001,\n",
    "        actor_var=0.05,\n",
    "        grad_updates=10,\n",
    "        optimizer_actor=torch.optim.Adam,\n",
    "        optimizer_critic=torch.optim.Adam,\n",
    "        observables=[\n",
    "            \"agent1\",\n",
    "            \"agent2\",\n",
    "            \"glc__D_e\",\n",
    "            *[i.replace(\"EX_\", \"\") for i in exchange_reactions.values()]\n",
    "        ],\n",
    "        actions=[i for i in exchange_reactions.values()],\n",
    "        gamma=1,\n",
    "    )\n",
    "    agent2 = tk.Agent(\n",
    "        \"agent2\",\n",
    "        model=model2,\n",
    "        actor_network=tk.NN,\n",
    "        critic_network=tk.NN,\n",
    "        clip=0.1,\n",
    "        lr_actor=0.0001,\n",
    "        lr_critic=0.001,\n",
    "        grad_updates=10,\n",
    "        actor_var=0.05,\n",
    "        optimizer_actor=torch.optim.Adam,\n",
    "        optimizer_critic=torch.optim.Adam,\n",
    "        observables=[\n",
    "            \"agent1\",\n",
    "            \"agent2\",\n",
    "            \"glc__D_e\",\n",
    "            *[i.replace(\"EX_\", \"\") for i in exchange_reactions.values()]\n",
    "        ],\n",
    "        actions=[i for i in exchange_reactions.values()],\n",
    "        gamma=1,\n",
    "    )\n",
    "    constants=list(ic.keys())\n",
    "    constants.remove(\"agent1\")\n",
    "    constants.remove(\"agent2\")\n",
    "    constants.remove(\"glc__D_e\")\n",
    "\n",
    "    env = tk.Environment(\n",
    "        \"IJO1366-Tyr-Phe-Auxotrophs\" ,\n",
    "        agents=[agent1, agent2],\n",
    "        dilution_rate=0,\n",
    "        extracellular_reactions=[],\n",
    "        initial_condition=ic,\n",
    "        inlet_conditions={},\n",
    "        dt=0.2,\n",
    "        episode_length=250,\n",
    "        number_of_batches=5000,  ##TOBECHANGED\n",
    "        episodes_per_batch=4,\n",
    "        constant=constants,\n",
    "    )\n"
   ]
  },
  {
   "cell_type": "code",
   "execution_count": 4,
   "metadata": {},
   "outputs": [],
   "source": [
    "sim=tk.Simulation(name=env.name,\n",
    "                  env=env,\n",
    "                  save_dir=\"./Results/\",\n",
    "                  )"
   ]
  },
  {
   "cell_type": "code",
   "execution_count": 5,
   "metadata": {},
   "outputs": [
    {
     "name": "stdout",
     "output_type": "stream",
     "text": [
      "Hold on, bringing the creitc network to range ...\n",
      "Done!\n",
      "Hold on, bringing the creitc network to range ...\n",
      "Done!\n",
      "Batch 0 finished:\n",
      "agent1 return was:  -243.49904137102834\n",
      "agent2 return was:  -3.8932280865355215\n",
      "Batch 1 finished:\n",
      "agent1 return was:  -243.49993400732856\n",
      "agent2 return was:  -2.091909251316706\n",
      "Batch 2 finished:\n",
      "agent1 return was:  -245.7498467138368\n",
      "agent2 return was:  -1.8566647029372003\n",
      "Batch 3 finished:\n",
      "agent1 return was:  -242.74972482033905\n",
      "agent2 return was:  -2.0573058854160005\n",
      "Batch 4 finished:\n",
      "agent1 return was:  -245.74967254755066\n",
      "agent2 return was:  -3.616969832185714\n",
      "Batch 5 finished:\n",
      "agent1 return was:  -239.49962793444107\n",
      "agent2 return was:  -1.4744184162897909\n",
      "Batch 6 finished:\n",
      "agent1 return was:  -240.99888318578172\n",
      "agent2 return was:  -1.2095130484877235\n",
      "Batch 7 finished:\n",
      "agent1 return was:  -240.74955883278585\n",
      "agent2 return was:  -1.8686368164421996\n",
      "Batch 8 finished:\n",
      "agent1 return was:  -242.49925705080025\n",
      "agent2 return was:  -2.8461559764234163\n",
      "Batch 9 finished:\n",
      "agent1 return was:  -241.5\n",
      "agent2 return was:  -2.4155310571291952\n",
      "Batch 10 finished:\n",
      "agent1 return was:  -239.99901414720142\n",
      "agent2 return was:  -1.2793019168888646\n",
      "Batch 11 finished:\n",
      "agent1 return was:  -238.9980893252282\n",
      "agent2 return was:  -1.3689088853661564\n",
      "Batch 12 finished:\n",
      "agent1 return was:  -239.99994635903687\n",
      "agent2 return was:  -1.891124915443042\n",
      "Batch 13 finished:\n",
      "agent1 return was:  -236.7462057963242\n",
      "agent2 return was:  -0.7454122387124912\n",
      "Batch 14 finished:\n",
      "agent1 return was:  -232.74621585074482\n",
      "agent2 return was:  -0.21863670477652503\n",
      "Batch 15 finished:\n",
      "agent1 return was:  -231.49454001638028\n",
      "agent2 return was:  0.3996905630938273\n",
      "Batch 16 finished:\n",
      "agent1 return was:  -232.2486539371027\n",
      "agent2 return was:  -0.8317209986932583\n",
      "Batch 17 finished:\n",
      "agent1 return was:  -230.9954366007845\n",
      "agent2 return was:  -0.8659745133811597\n",
      "Batch 18 finished:\n",
      "agent1 return was:  -231.49742019317463\n",
      "agent2 return was:  1.377207843084296\n",
      "Batch 19 finished:\n",
      "agent1 return was:  -230.49734309622133\n",
      "agent2 return was:  -0.03752358257317989\n",
      "Batch 20 finished:\n",
      "agent1 return was:  -227.99363837907032\n",
      "agent2 return was:  0.5861944088616785\n",
      "Batch 21 finished:\n",
      "agent1 return was:  -226.99807947335668\n",
      "agent2 return was:  0.3676716861528729\n",
      "Batch 22 finished:\n",
      "agent1 return was:  -220.74713160006067\n",
      "agent2 return was:  2.2042501397967333\n",
      "Batch 23 finished:\n",
      "agent1 return was:  -218.99255465383726\n",
      "agent2 return was:  1.63544118575902\n",
      "Batch 24 finished:\n",
      "agent1 return was:  -213.99569510873437\n",
      "agent2 return was:  1.9913746139733886\n",
      "Batch 25 finished:\n",
      "agent1 return was:  -209.4762090379729\n",
      "agent2 return was:  3.9295197972973477\n",
      "Batch 26 finished:\n",
      "agent1 return was:  -212.73622182553447\n",
      "agent2 return was:  3.7016439203606413\n",
      "Batch 27 finished:\n",
      "agent1 return was:  -205.9743265443549\n",
      "agent2 return was:  4.6693860502827444\n",
      "Batch 28 finished:\n",
      "agent1 return was:  -204.9907670502309\n",
      "agent2 return was:  4.299318925086139\n",
      "Batch 29 finished:\n",
      "agent1 return was:  -200.4976317300679\n",
      "agent2 return was:  6.111463223128436\n",
      "Batch 30 finished:\n",
      "agent1 return was:  -194.7338669891079\n",
      "agent2 return was:  9.606653791194217\n",
      "Batch 31 finished:\n",
      "agent1 return was:  -196.4751364414079\n",
      "agent2 return was:  5.181912740096548\n",
      "Batch 32 finished:\n",
      "agent1 return was:  -189.23868733610811\n",
      "agent2 return was:  7.169149663565878\n",
      "Batch 33 finished:\n",
      "agent1 return was:  -184.97110719400803\n",
      "agent2 return was:  8.641257494680303\n",
      "Batch 34 finished:\n",
      "agent1 return was:  -190.480295456848\n",
      "agent2 return was:  13.167674002661457\n",
      "Batch 35 finished:\n",
      "agent1 return was:  -175.72541968897926\n",
      "agent2 return was:  8.39519381210339\n",
      "Batch 36 finished:\n",
      "agent1 return was:  -177.6787885095854\n",
      "agent2 return was:  8.415648033275328\n",
      "Batch 37 finished:\n",
      "agent1 return was:  -173.74668167847096\n",
      "agent2 return was:  7.066640247055368\n",
      "Batch 38 finished:\n",
      "agent1 return was:  -164.41183644316027\n",
      "agent2 return was:  11.46771720420885\n",
      "Batch 39 finished:\n",
      "agent1 return was:  -162.7643108123809\n",
      "agent2 return was:  13.918587352707572\n",
      "Batch 40 finished:\n",
      "agent1 return was:  -154.6801550229191\n",
      "agent2 return was:  14.0917916675429\n",
      "Batch 41 finished:\n",
      "agent1 return was:  -154.19785817305873\n",
      "agent2 return was:  11.941321162771573\n",
      "Batch 42 finished:\n",
      "agent1 return was:  -156.2040248406902\n",
      "agent2 return was:  12.699156914046057\n",
      "Batch 43 finished:\n",
      "agent1 return was:  -152.44315921065532\n",
      "agent2 return was:  11.694129008240754\n",
      "Batch 44 finished:\n",
      "agent1 return was:  -152.2343023299042\n",
      "agent2 return was:  12.144375459824666\n",
      "Batch 45 finished:\n",
      "agent1 return was:  -142.92523375883525\n",
      "agent2 return was:  13.073948198229289\n",
      "Batch 46 finished:\n",
      "agent1 return was:  -139.84699227664618\n",
      "agent2 return was:  12.015701764615107\n",
      "Batch 47 finished:\n",
      "agent1 return was:  -139.94215533069416\n",
      "agent2 return was:  12.570501640434008\n",
      "Batch 48 finished:\n",
      "agent1 return was:  -134.35133181777593\n",
      "agent2 return was:  16.916211853796995\n",
      "Batch 49 finished:\n",
      "agent1 return was:  -137.71683055373788\n",
      "agent2 return was:  13.002516266670373\n",
      "Batch 50 finished:\n",
      "agent1 return was:  -119.45450457209292\n",
      "agent2 return was:  14.381077664988569\n",
      "Batch 51 finished:\n",
      "agent1 return was:  -125.19359286903807\n",
      "agent2 return was:  15.530637559296924\n",
      "Batch 52 finished:\n",
      "agent1 return was:  -118.9728640546447\n",
      "agent2 return was:  14.534358629702114\n",
      "Batch 53 finished:\n",
      "agent1 return was:  -110.39758410744535\n",
      "agent2 return was:  14.221182364810351\n",
      "Batch 54 finished:\n",
      "agent1 return was:  -106.98988928186338\n",
      "agent2 return was:  20.929444135795123\n",
      "Batch 55 finished:\n",
      "agent1 return was:  -106.18320922100513\n",
      "agent2 return was:  14.23883788198043\n",
      "Batch 56 finished:\n",
      "agent1 return was:  -112.00617245508383\n",
      "agent2 return was:  20.99884270910949\n",
      "Batch 57 finished:\n",
      "agent1 return was:  -100.43592558747076\n",
      "agent2 return was:  15.037104787678967\n",
      "Batch 58 finished:\n",
      "agent1 return was:  -92.48790975871535\n",
      "agent2 return was:  16.748847399728902\n",
      "Batch 59 finished:\n",
      "agent1 return was:  -92.88749551987317\n",
      "agent2 return was:  24.00447342455642\n",
      "Batch 60 finished:\n",
      "agent1 return was:  -89.99869649848023\n",
      "agent2 return was:  16.85862551671248\n",
      "Batch 61 finished:\n",
      "agent1 return was:  -86.04259282071112\n",
      "agent2 return was:  16.589837846798932\n",
      "Batch 62 finished:\n",
      "agent1 return was:  -85.44482235049472\n",
      "agent2 return was:  16.23254514331455\n",
      "Batch 63 finished:\n",
      "agent1 return was:  -78.91392500829014\n",
      "agent2 return was:  19.084102171123924\n",
      "Batch 64 finished:\n",
      "agent1 return was:  -76.33511224889845\n",
      "agent2 return was:  20.104530898495646\n",
      "Batch 65 finished:\n",
      "agent1 return was:  -70.68134866397416\n",
      "agent2 return was:  16.127822587979118\n",
      "Batch 66 finished:\n",
      "agent1 return was:  -67.6650458985068\n",
      "agent2 return was:  22.810959383795222\n",
      "Batch 67 finished:\n",
      "agent1 return was:  -64.99856317538777\n",
      "agent2 return was:  21.579761803819277\n",
      "Batch 68 finished:\n",
      "agent1 return was:  -62.80272565345992\n",
      "agent2 return was:  18.63871878782624\n",
      "Batch 69 finished:\n",
      "agent1 return was:  -57.1447956239571\n",
      "agent2 return was:  17.277396776896804\n",
      "Batch 70 finished:\n",
      "agent1 return was:  -57.45698657157869\n",
      "agent2 return was:  16.45228500136171\n",
      "Batch 71 finished:\n",
      "agent1 return was:  -59.357954040892814\n",
      "agent2 return was:  19.451406802086208\n",
      "Batch 72 finished:\n",
      "agent1 return was:  -58.392978343538005\n",
      "agent2 return was:  21.835280940479084\n",
      "Batch 73 finished:\n",
      "agent1 return was:  -53.92083703537354\n",
      "agent2 return was:  18.82974374128264\n",
      "Batch 74 finished:\n",
      "agent1 return was:  -50.26568173448167\n",
      "agent2 return was:  19.98274194125727\n",
      "Batch 75 finished:\n",
      "agent1 return was:  -50.61183444658194\n",
      "agent2 return was:  42.30491090672511\n",
      "Batch 76 finished:\n",
      "agent1 return was:  -50.54925360839097\n",
      "agent2 return was:  20.750118977904336\n",
      "Batch 77 finished:\n",
      "agent1 return was:  -54.59790724299685\n",
      "agent2 return was:  18.08058253298862\n",
      "Batch 78 finished:\n",
      "agent1 return was:  -51.128468020404625\n",
      "agent2 return was:  19.13364468671023\n",
      "Batch 79 finished:\n",
      "agent1 return was:  -52.447667914010715\n",
      "agent2 return was:  24.725491615661394\n",
      "Batch 80 finished:\n",
      "agent1 return was:  -43.17878710296035\n",
      "agent2 return was:  19.659388781869808\n",
      "Batch 81 finished:\n",
      "agent1 return was:  -43.771126049370785\n",
      "agent2 return was:  21.365853967142293\n",
      "Batch 82 finished:\n",
      "agent1 return was:  -45.433982057110754\n",
      "agent2 return was:  18.844944053477874\n",
      "Batch 83 finished:\n",
      "agent1 return was:  -44.53682368977498\n",
      "agent2 return was:  22.455432221044937\n",
      "Batch 84 finished:\n",
      "agent1 return was:  -41.92100143489486\n",
      "agent2 return was:  19.77055819389787\n",
      "Batch 85 finished:\n",
      "agent1 return was:  -35.98083212772798\n",
      "agent2 return was:  18.73539441860026\n",
      "Batch 86 finished:\n",
      "agent1 return was:  -38.82827658426076\n",
      "agent2 return was:  21.829093253434305\n",
      "Batch 87 finished:\n",
      "agent1 return was:  -35.07094428424923\n",
      "agent2 return was:  21.112825364040567\n",
      "Batch 88 finished:\n",
      "agent1 return was:  -36.08380582844832\n",
      "agent2 return was:  24.400648520901303\n",
      "Batch 89 finished:\n",
      "agent1 return was:  -33.06681121956717\n",
      "agent2 return was:  20.430798519345558\n",
      "Batch 90 finished:\n",
      "agent1 return was:  -30.916194802250473\n",
      "agent2 return was:  18.78951499984626\n",
      "Batch 91 finished:\n",
      "agent1 return was:  -31.78359030871728\n",
      "agent2 return was:  21.932448887888093\n",
      "Batch 92 finished:\n",
      "agent1 return was:  -33.65985401616015\n",
      "agent2 return was:  19.4660882888304\n",
      "Batch 93 finished:\n",
      "agent1 return was:  -29.360693470633194\n",
      "agent2 return was:  20.966751148263285\n",
      "Batch 94 finished:\n",
      "agent1 return was:  -25.64973300250806\n",
      "agent2 return was:  20.805329533594946\n",
      "Batch 95 finished:\n",
      "agent1 return was:  -25.753581239597878\n",
      "agent2 return was:  20.796238920267086\n",
      "Batch 96 finished:\n",
      "agent1 return was:  -28.96080271643325\n",
      "agent2 return was:  28.34907515731497\n",
      "Batch 97 finished:\n",
      "agent1 return was:  -26.17486601942521\n",
      "agent2 return was:  25.24098831922161\n",
      "Batch 98 finished:\n",
      "agent1 return was:  -29.169810727399053\n",
      "agent2 return was:  19.29066630193669\n",
      "Batch 99 finished:\n",
      "agent1 return was:  -22.373759704419395\n",
      "agent2 return was:  22.464853710297934\n",
      "Batch 100 finished:\n",
      "agent1 return was:  -25.064218395162975\n",
      "agent2 return was:  20.586848739643116\n",
      "Batch 101 finished:\n",
      "agent1 return was:  -26.493967394252874\n",
      "agent2 return was:  24.16624394261503\n",
      "Batch 102 finished:\n",
      "agent1 return was:  -20.7319075446397\n",
      "agent2 return was:  18.71742086745943\n",
      "Batch 103 finished:\n",
      "agent1 return was:  -17.81904632839033\n",
      "agent2 return was:  23.43080302506491\n",
      "Batch 104 finished:\n",
      "agent1 return was:  -22.94014179934981\n",
      "agent2 return was:  29.993314999597487\n",
      "Batch 105 finished:\n",
      "agent1 return was:  -19.883472607197607\n",
      "agent2 return was:  24.96430264966843\n",
      "Batch 106 finished:\n",
      "agent1 return was:  -15.561763873311591\n",
      "agent2 return was:  19.46100411337904\n",
      "Batch 107 finished:\n",
      "agent1 return was:  -17.46048356184519\n",
      "agent2 return was:  21.248714018482247\n",
      "Batch 108 finished:\n",
      "agent1 return was:  -12.081949720703994\n",
      "agent2 return was:  21.854768714582413\n",
      "Batch 109 finished:\n",
      "agent1 return was:  -15.32553593779882\n",
      "agent2 return was:  23.28055556773011\n",
      "Batch 110 finished:\n",
      "agent1 return was:  -13.591001271608128\n",
      "agent2 return was:  20.642223683052485\n",
      "Batch 111 finished:\n",
      "agent1 return was:  -17.492679369465414\n",
      "agent2 return was:  22.66844503976297\n",
      "Batch 112 finished:\n",
      "agent1 return was:  -13.576585497656367\n",
      "agent2 return was:  20.20909819733052\n",
      "Batch 113 finished:\n",
      "agent1 return was:  -12.476176092487965\n",
      "agent2 return was:  24.155482333468804\n"
     ]
    }
   ],
   "source": [
    "sim.run()"
   ]
  },
  {
   "cell_type": "code",
   "execution_count": 6,
   "metadata": {},
   "outputs": [
    {
     "data": {
      "application/vnd.plotly.v1+json": {
       "config": {
        "plotlyServerURL": "https://plot.ly"
       },
       "data": [
        {
         "line": {
          "color": "rgb(31, 119, 180)"
         },
         "mode": "lines",
         "name": "agent1",
         "type": "scatter",
         "x": [
          0,
          1,
          2,
          3,
          4,
          5,
          6,
          7,
          8,
          9
         ],
         "y": [
          -250,
          -250,
          -250,
          -250,
          -250,
          -250,
          -250,
          -250,
          -250,
          -250
         ]
        },
        {
         "fill": "toself",
         "fillcolor": "rgba(31, 119, 180,0.2)",
         "hoverinfo": "skip",
         "line": {
          "color": "rgba(255,255,255,0)"
         },
         "showlegend": false,
         "type": "scatter",
         "x": [
          0,
          1,
          2,
          3,
          4,
          5,
          6,
          7,
          8,
          9,
          9,
          8,
          7,
          6,
          5,
          4,
          3,
          2,
          1,
          0
         ],
         "y": [
          -250,
          -250,
          -250,
          -250,
          -250,
          -250,
          -250,
          -250,
          -250,
          -250,
          -250,
          -250,
          -250,
          -250,
          -250,
          -250,
          -250,
          -250,
          -250,
          -250
         ]
        },
        {
         "line": {
          "color": "rgb(255, 127, 14)"
         },
         "mode": "lines",
         "name": "agent2",
         "type": "scatter",
         "x": [
          0,
          1,
          2,
          3,
          4,
          5,
          6,
          7,
          8,
          9
         ],
         "y": [
          -40.5,
          -44.5,
          -40,
          -37,
          -33.5,
          -33.75,
          -31,
          -41.25,
          -39.25,
          -31.75
         ]
        },
        {
         "fill": "toself",
         "fillcolor": "rgba(255, 127, 14,0.2)",
         "hoverinfo": "skip",
         "line": {
          "color": "rgba(255,255,255,0)"
         },
         "showlegend": false,
         "type": "scatter",
         "x": [
          0,
          1,
          2,
          3,
          4,
          5,
          6,
          7,
          8,
          9,
          9,
          8,
          7,
          6,
          5,
          4,
          3,
          2,
          1,
          0
         ],
         "y": [
          -33,
          -37,
          -30,
          -35,
          -27,
          -32,
          -29,
          -37,
          -35,
          -22,
          -40,
          -42,
          -46,
          -34,
          -37,
          -39,
          -40,
          -51,
          -54,
          -44
         ]
        }
       ],
       "layout": {
        "template": {
         "data": {
          "bar": [
           {
            "error_x": {
             "color": "#2a3f5f"
            },
            "error_y": {
             "color": "#2a3f5f"
            },
            "marker": {
             "line": {
              "color": "#E5ECF6",
              "width": 0.5
             },
             "pattern": {
              "fillmode": "overlay",
              "size": 10,
              "solidity": 0.2
             }
            },
            "type": "bar"
           }
          ],
          "barpolar": [
           {
            "marker": {
             "line": {
              "color": "#E5ECF6",
              "width": 0.5
             },
             "pattern": {
              "fillmode": "overlay",
              "size": 10,
              "solidity": 0.2
             }
            },
            "type": "barpolar"
           }
          ],
          "carpet": [
           {
            "aaxis": {
             "endlinecolor": "#2a3f5f",
             "gridcolor": "white",
             "linecolor": "white",
             "minorgridcolor": "white",
             "startlinecolor": "#2a3f5f"
            },
            "baxis": {
             "endlinecolor": "#2a3f5f",
             "gridcolor": "white",
             "linecolor": "white",
             "minorgridcolor": "white",
             "startlinecolor": "#2a3f5f"
            },
            "type": "carpet"
           }
          ],
          "choropleth": [
           {
            "colorbar": {
             "outlinewidth": 0,
             "ticks": ""
            },
            "type": "choropleth"
           }
          ],
          "contour": [
           {
            "colorbar": {
             "outlinewidth": 0,
             "ticks": ""
            },
            "colorscale": [
             [
              0,
              "#0d0887"
             ],
             [
              0.1111111111111111,
              "#46039f"
             ],
             [
              0.2222222222222222,
              "#7201a8"
             ],
             [
              0.3333333333333333,
              "#9c179e"
             ],
             [
              0.4444444444444444,
              "#bd3786"
             ],
             [
              0.5555555555555556,
              "#d8576b"
             ],
             [
              0.6666666666666666,
              "#ed7953"
             ],
             [
              0.7777777777777778,
              "#fb9f3a"
             ],
             [
              0.8888888888888888,
              "#fdca26"
             ],
             [
              1,
              "#f0f921"
             ]
            ],
            "type": "contour"
           }
          ],
          "contourcarpet": [
           {
            "colorbar": {
             "outlinewidth": 0,
             "ticks": ""
            },
            "type": "contourcarpet"
           }
          ],
          "heatmap": [
           {
            "colorbar": {
             "outlinewidth": 0,
             "ticks": ""
            },
            "colorscale": [
             [
              0,
              "#0d0887"
             ],
             [
              0.1111111111111111,
              "#46039f"
             ],
             [
              0.2222222222222222,
              "#7201a8"
             ],
             [
              0.3333333333333333,
              "#9c179e"
             ],
             [
              0.4444444444444444,
              "#bd3786"
             ],
             [
              0.5555555555555556,
              "#d8576b"
             ],
             [
              0.6666666666666666,
              "#ed7953"
             ],
             [
              0.7777777777777778,
              "#fb9f3a"
             ],
             [
              0.8888888888888888,
              "#fdca26"
             ],
             [
              1,
              "#f0f921"
             ]
            ],
            "type": "heatmap"
           }
          ],
          "heatmapgl": [
           {
            "colorbar": {
             "outlinewidth": 0,
             "ticks": ""
            },
            "colorscale": [
             [
              0,
              "#0d0887"
             ],
             [
              0.1111111111111111,
              "#46039f"
             ],
             [
              0.2222222222222222,
              "#7201a8"
             ],
             [
              0.3333333333333333,
              "#9c179e"
             ],
             [
              0.4444444444444444,
              "#bd3786"
             ],
             [
              0.5555555555555556,
              "#d8576b"
             ],
             [
              0.6666666666666666,
              "#ed7953"
             ],
             [
              0.7777777777777778,
              "#fb9f3a"
             ],
             [
              0.8888888888888888,
              "#fdca26"
             ],
             [
              1,
              "#f0f921"
             ]
            ],
            "type": "heatmapgl"
           }
          ],
          "histogram": [
           {
            "marker": {
             "pattern": {
              "fillmode": "overlay",
              "size": 10,
              "solidity": 0.2
             }
            },
            "type": "histogram"
           }
          ],
          "histogram2d": [
           {
            "colorbar": {
             "outlinewidth": 0,
             "ticks": ""
            },
            "colorscale": [
             [
              0,
              "#0d0887"
             ],
             [
              0.1111111111111111,
              "#46039f"
             ],
             [
              0.2222222222222222,
              "#7201a8"
             ],
             [
              0.3333333333333333,
              "#9c179e"
             ],
             [
              0.4444444444444444,
              "#bd3786"
             ],
             [
              0.5555555555555556,
              "#d8576b"
             ],
             [
              0.6666666666666666,
              "#ed7953"
             ],
             [
              0.7777777777777778,
              "#fb9f3a"
             ],
             [
              0.8888888888888888,
              "#fdca26"
             ],
             [
              1,
              "#f0f921"
             ]
            ],
            "type": "histogram2d"
           }
          ],
          "histogram2dcontour": [
           {
            "colorbar": {
             "outlinewidth": 0,
             "ticks": ""
            },
            "colorscale": [
             [
              0,
              "#0d0887"
             ],
             [
              0.1111111111111111,
              "#46039f"
             ],
             [
              0.2222222222222222,
              "#7201a8"
             ],
             [
              0.3333333333333333,
              "#9c179e"
             ],
             [
              0.4444444444444444,
              "#bd3786"
             ],
             [
              0.5555555555555556,
              "#d8576b"
             ],
             [
              0.6666666666666666,
              "#ed7953"
             ],
             [
              0.7777777777777778,
              "#fb9f3a"
             ],
             [
              0.8888888888888888,
              "#fdca26"
             ],
             [
              1,
              "#f0f921"
             ]
            ],
            "type": "histogram2dcontour"
           }
          ],
          "mesh3d": [
           {
            "colorbar": {
             "outlinewidth": 0,
             "ticks": ""
            },
            "type": "mesh3d"
           }
          ],
          "parcoords": [
           {
            "line": {
             "colorbar": {
              "outlinewidth": 0,
              "ticks": ""
             }
            },
            "type": "parcoords"
           }
          ],
          "pie": [
           {
            "automargin": true,
            "type": "pie"
           }
          ],
          "scatter": [
           {
            "fillpattern": {
             "fillmode": "overlay",
             "size": 10,
             "solidity": 0.2
            },
            "type": "scatter"
           }
          ],
          "scatter3d": [
           {
            "line": {
             "colorbar": {
              "outlinewidth": 0,
              "ticks": ""
             }
            },
            "marker": {
             "colorbar": {
              "outlinewidth": 0,
              "ticks": ""
             }
            },
            "type": "scatter3d"
           }
          ],
          "scattercarpet": [
           {
            "marker": {
             "colorbar": {
              "outlinewidth": 0,
              "ticks": ""
             }
            },
            "type": "scattercarpet"
           }
          ],
          "scattergeo": [
           {
            "marker": {
             "colorbar": {
              "outlinewidth": 0,
              "ticks": ""
             }
            },
            "type": "scattergeo"
           }
          ],
          "scattergl": [
           {
            "marker": {
             "colorbar": {
              "outlinewidth": 0,
              "ticks": ""
             }
            },
            "type": "scattergl"
           }
          ],
          "scattermapbox": [
           {
            "marker": {
             "colorbar": {
              "outlinewidth": 0,
              "ticks": ""
             }
            },
            "type": "scattermapbox"
           }
          ],
          "scatterpolar": [
           {
            "marker": {
             "colorbar": {
              "outlinewidth": 0,
              "ticks": ""
             }
            },
            "type": "scatterpolar"
           }
          ],
          "scatterpolargl": [
           {
            "marker": {
             "colorbar": {
              "outlinewidth": 0,
              "ticks": ""
             }
            },
            "type": "scatterpolargl"
           }
          ],
          "scatterternary": [
           {
            "marker": {
             "colorbar": {
              "outlinewidth": 0,
              "ticks": ""
             }
            },
            "type": "scatterternary"
           }
          ],
          "surface": [
           {
            "colorbar": {
             "outlinewidth": 0,
             "ticks": ""
            },
            "colorscale": [
             [
              0,
              "#0d0887"
             ],
             [
              0.1111111111111111,
              "#46039f"
             ],
             [
              0.2222222222222222,
              "#7201a8"
             ],
             [
              0.3333333333333333,
              "#9c179e"
             ],
             [
              0.4444444444444444,
              "#bd3786"
             ],
             [
              0.5555555555555556,
              "#d8576b"
             ],
             [
              0.6666666666666666,
              "#ed7953"
             ],
             [
              0.7777777777777778,
              "#fb9f3a"
             ],
             [
              0.8888888888888888,
              "#fdca26"
             ],
             [
              1,
              "#f0f921"
             ]
            ],
            "type": "surface"
           }
          ],
          "table": [
           {
            "cells": {
             "fill": {
              "color": "#EBF0F8"
             },
             "line": {
              "color": "white"
             }
            },
            "header": {
             "fill": {
              "color": "#C8D4E3"
             },
             "line": {
              "color": "white"
             }
            },
            "type": "table"
           }
          ]
         },
         "layout": {
          "annotationdefaults": {
           "arrowcolor": "#2a3f5f",
           "arrowhead": 0,
           "arrowwidth": 1
          },
          "autotypenumbers": "strict",
          "coloraxis": {
           "colorbar": {
            "outlinewidth": 0,
            "ticks": ""
           }
          },
          "colorscale": {
           "diverging": [
            [
             0,
             "#8e0152"
            ],
            [
             0.1,
             "#c51b7d"
            ],
            [
             0.2,
             "#de77ae"
            ],
            [
             0.3,
             "#f1b6da"
            ],
            [
             0.4,
             "#fde0ef"
            ],
            [
             0.5,
             "#f7f7f7"
            ],
            [
             0.6,
             "#e6f5d0"
            ],
            [
             0.7,
             "#b8e186"
            ],
            [
             0.8,
             "#7fbc41"
            ],
            [
             0.9,
             "#4d9221"
            ],
            [
             1,
             "#276419"
            ]
           ],
           "sequential": [
            [
             0,
             "#0d0887"
            ],
            [
             0.1111111111111111,
             "#46039f"
            ],
            [
             0.2222222222222222,
             "#7201a8"
            ],
            [
             0.3333333333333333,
             "#9c179e"
            ],
            [
             0.4444444444444444,
             "#bd3786"
            ],
            [
             0.5555555555555556,
             "#d8576b"
            ],
            [
             0.6666666666666666,
             "#ed7953"
            ],
            [
             0.7777777777777778,
             "#fb9f3a"
            ],
            [
             0.8888888888888888,
             "#fdca26"
            ],
            [
             1,
             "#f0f921"
            ]
           ],
           "sequentialminus": [
            [
             0,
             "#0d0887"
            ],
            [
             0.1111111111111111,
             "#46039f"
            ],
            [
             0.2222222222222222,
             "#7201a8"
            ],
            [
             0.3333333333333333,
             "#9c179e"
            ],
            [
             0.4444444444444444,
             "#bd3786"
            ],
            [
             0.5555555555555556,
             "#d8576b"
            ],
            [
             0.6666666666666666,
             "#ed7953"
            ],
            [
             0.7777777777777778,
             "#fb9f3a"
            ],
            [
             0.8888888888888888,
             "#fdca26"
            ],
            [
             1,
             "#f0f921"
            ]
           ]
          },
          "colorway": [
           "#636efa",
           "#EF553B",
           "#00cc96",
           "#ab63fa",
           "#FFA15A",
           "#19d3f3",
           "#FF6692",
           "#B6E880",
           "#FF97FF",
           "#FECB52"
          ],
          "font": {
           "color": "#2a3f5f"
          },
          "geo": {
           "bgcolor": "white",
           "lakecolor": "white",
           "landcolor": "#E5ECF6",
           "showlakes": true,
           "showland": true,
           "subunitcolor": "white"
          },
          "hoverlabel": {
           "align": "left"
          },
          "hovermode": "closest",
          "mapbox": {
           "style": "light"
          },
          "paper_bgcolor": "white",
          "plot_bgcolor": "#E5ECF6",
          "polar": {
           "angularaxis": {
            "gridcolor": "white",
            "linecolor": "white",
            "ticks": ""
           },
           "bgcolor": "#E5ECF6",
           "radialaxis": {
            "gridcolor": "white",
            "linecolor": "white",
            "ticks": ""
           }
          },
          "scene": {
           "xaxis": {
            "backgroundcolor": "#E5ECF6",
            "gridcolor": "white",
            "gridwidth": 2,
            "linecolor": "white",
            "showbackground": true,
            "ticks": "",
            "zerolinecolor": "white"
           },
           "yaxis": {
            "backgroundcolor": "#E5ECF6",
            "gridcolor": "white",
            "gridwidth": 2,
            "linecolor": "white",
            "showbackground": true,
            "ticks": "",
            "zerolinecolor": "white"
           },
           "zaxis": {
            "backgroundcolor": "#E5ECF6",
            "gridcolor": "white",
            "gridwidth": 2,
            "linecolor": "white",
            "showbackground": true,
            "ticks": "",
            "zerolinecolor": "white"
           }
          },
          "shapedefaults": {
           "line": {
            "color": "#2a3f5f"
           }
          },
          "ternary": {
           "aaxis": {
            "gridcolor": "white",
            "linecolor": "white",
            "ticks": ""
           },
           "baxis": {
            "gridcolor": "white",
            "linecolor": "white",
            "ticks": ""
           },
           "bgcolor": "#E5ECF6",
           "caxis": {
            "gridcolor": "white",
            "linecolor": "white",
            "ticks": ""
           }
          },
          "title": {
           "x": 0.05
          },
          "xaxis": {
           "automargin": true,
           "gridcolor": "white",
           "linecolor": "white",
           "ticks": "",
           "title": {
            "standoff": 15
           },
           "zerolinecolor": "white",
           "zerolinewidth": 2
          },
          "yaxis": {
           "automargin": true,
           "gridcolor": "white",
           "linecolor": "white",
           "ticks": "",
           "title": {
            "standoff": 15
           },
           "zerolinecolor": "white",
           "zerolinewidth": 2
          }
         }
        },
        "xaxis": {
         "title": {
          "text": "Batch"
         }
        },
        "yaxis": {
         "title": {
          "text": "Total Episode Return"
         }
        }
       }
      }
     },
     "metadata": {},
     "output_type": "display_data"
    },
    {
     "data": {
      "application/vnd.plotly.v1+json": {
       "config": {
        "plotlyServerURL": "https://plot.ly"
       },
       "data": [
        {
         "line": {
          "color": "rgb(31, 119, 180)"
         },
         "mode": "lines",
         "name": "agent1",
         "type": "scatter",
         "x": [
          0,
          1,
          2,
          3,
          4,
          5,
          6,
          7,
          8,
          9
         ],
         "y": [
          -250,
          -250,
          -250,
          -250,
          -250,
          -250,
          -250,
          -250,
          -250,
          -250
         ]
        },
        {
         "fill": "toself",
         "fillcolor": "rgba(31, 119, 180,0.2)",
         "hoverinfo": "skip",
         "line": {
          "color": "rgba(255,255,255,0)"
         },
         "showlegend": false,
         "type": "scatter",
         "x": [
          0,
          1,
          2,
          3,
          4,
          5,
          6,
          7,
          8,
          9,
          9,
          8,
          7,
          6,
          5,
          4,
          3,
          2,
          1,
          0
         ],
         "y": [
          -250,
          -250,
          -250,
          -250,
          -250,
          -250,
          -250,
          -250,
          -250,
          -250,
          -250,
          -250,
          -250,
          -250,
          -250,
          -250,
          -250,
          -250,
          -250,
          -250
         ]
        },
        {
         "line": {
          "color": "rgb(255, 127, 14)"
         },
         "mode": "lines",
         "name": "agent2",
         "type": "scatter",
         "x": [
          0,
          1,
          2,
          3,
          4,
          5,
          6,
          7,
          8,
          9
         ],
         "y": [
          -40.5,
          -44.5,
          -40,
          -37,
          -33.5,
          -33.75,
          -31,
          -41.25,
          -39.25,
          -31.75
         ]
        },
        {
         "fill": "toself",
         "fillcolor": "rgba(255, 127, 14,0.2)",
         "hoverinfo": "skip",
         "line": {
          "color": "rgba(255,255,255,0)"
         },
         "showlegend": false,
         "type": "scatter",
         "x": [
          0,
          1,
          2,
          3,
          4,
          5,
          6,
          7,
          8,
          9,
          9,
          8,
          7,
          6,
          5,
          4,
          3,
          2,
          1,
          0
         ],
         "y": [
          -33,
          -37,
          -30,
          -35,
          -27,
          -32,
          -29,
          -37,
          -35,
          -22,
          -40,
          -42,
          -46,
          -34,
          -37,
          -39,
          -40,
          -51,
          -54,
          -44
         ]
        }
       ],
       "layout": {
        "template": {
         "data": {
          "bar": [
           {
            "error_x": {
             "color": "#2a3f5f"
            },
            "error_y": {
             "color": "#2a3f5f"
            },
            "marker": {
             "line": {
              "color": "#E5ECF6",
              "width": 0.5
             },
             "pattern": {
              "fillmode": "overlay",
              "size": 10,
              "solidity": 0.2
             }
            },
            "type": "bar"
           }
          ],
          "barpolar": [
           {
            "marker": {
             "line": {
              "color": "#E5ECF6",
              "width": 0.5
             },
             "pattern": {
              "fillmode": "overlay",
              "size": 10,
              "solidity": 0.2
             }
            },
            "type": "barpolar"
           }
          ],
          "carpet": [
           {
            "aaxis": {
             "endlinecolor": "#2a3f5f",
             "gridcolor": "white",
             "linecolor": "white",
             "minorgridcolor": "white",
             "startlinecolor": "#2a3f5f"
            },
            "baxis": {
             "endlinecolor": "#2a3f5f",
             "gridcolor": "white",
             "linecolor": "white",
             "minorgridcolor": "white",
             "startlinecolor": "#2a3f5f"
            },
            "type": "carpet"
           }
          ],
          "choropleth": [
           {
            "colorbar": {
             "outlinewidth": 0,
             "ticks": ""
            },
            "type": "choropleth"
           }
          ],
          "contour": [
           {
            "colorbar": {
             "outlinewidth": 0,
             "ticks": ""
            },
            "colorscale": [
             [
              0,
              "#0d0887"
             ],
             [
              0.1111111111111111,
              "#46039f"
             ],
             [
              0.2222222222222222,
              "#7201a8"
             ],
             [
              0.3333333333333333,
              "#9c179e"
             ],
             [
              0.4444444444444444,
              "#bd3786"
             ],
             [
              0.5555555555555556,
              "#d8576b"
             ],
             [
              0.6666666666666666,
              "#ed7953"
             ],
             [
              0.7777777777777778,
              "#fb9f3a"
             ],
             [
              0.8888888888888888,
              "#fdca26"
             ],
             [
              1,
              "#f0f921"
             ]
            ],
            "type": "contour"
           }
          ],
          "contourcarpet": [
           {
            "colorbar": {
             "outlinewidth": 0,
             "ticks": ""
            },
            "type": "contourcarpet"
           }
          ],
          "heatmap": [
           {
            "colorbar": {
             "outlinewidth": 0,
             "ticks": ""
            },
            "colorscale": [
             [
              0,
              "#0d0887"
             ],
             [
              0.1111111111111111,
              "#46039f"
             ],
             [
              0.2222222222222222,
              "#7201a8"
             ],
             [
              0.3333333333333333,
              "#9c179e"
             ],
             [
              0.4444444444444444,
              "#bd3786"
             ],
             [
              0.5555555555555556,
              "#d8576b"
             ],
             [
              0.6666666666666666,
              "#ed7953"
             ],
             [
              0.7777777777777778,
              "#fb9f3a"
             ],
             [
              0.8888888888888888,
              "#fdca26"
             ],
             [
              1,
              "#f0f921"
             ]
            ],
            "type": "heatmap"
           }
          ],
          "heatmapgl": [
           {
            "colorbar": {
             "outlinewidth": 0,
             "ticks": ""
            },
            "colorscale": [
             [
              0,
              "#0d0887"
             ],
             [
              0.1111111111111111,
              "#46039f"
             ],
             [
              0.2222222222222222,
              "#7201a8"
             ],
             [
              0.3333333333333333,
              "#9c179e"
             ],
             [
              0.4444444444444444,
              "#bd3786"
             ],
             [
              0.5555555555555556,
              "#d8576b"
             ],
             [
              0.6666666666666666,
              "#ed7953"
             ],
             [
              0.7777777777777778,
              "#fb9f3a"
             ],
             [
              0.8888888888888888,
              "#fdca26"
             ],
             [
              1,
              "#f0f921"
             ]
            ],
            "type": "heatmapgl"
           }
          ],
          "histogram": [
           {
            "marker": {
             "pattern": {
              "fillmode": "overlay",
              "size": 10,
              "solidity": 0.2
             }
            },
            "type": "histogram"
           }
          ],
          "histogram2d": [
           {
            "colorbar": {
             "outlinewidth": 0,
             "ticks": ""
            },
            "colorscale": [
             [
              0,
              "#0d0887"
             ],
             [
              0.1111111111111111,
              "#46039f"
             ],
             [
              0.2222222222222222,
              "#7201a8"
             ],
             [
              0.3333333333333333,
              "#9c179e"
             ],
             [
              0.4444444444444444,
              "#bd3786"
             ],
             [
              0.5555555555555556,
              "#d8576b"
             ],
             [
              0.6666666666666666,
              "#ed7953"
             ],
             [
              0.7777777777777778,
              "#fb9f3a"
             ],
             [
              0.8888888888888888,
              "#fdca26"
             ],
             [
              1,
              "#f0f921"
             ]
            ],
            "type": "histogram2d"
           }
          ],
          "histogram2dcontour": [
           {
            "colorbar": {
             "outlinewidth": 0,
             "ticks": ""
            },
            "colorscale": [
             [
              0,
              "#0d0887"
             ],
             [
              0.1111111111111111,
              "#46039f"
             ],
             [
              0.2222222222222222,
              "#7201a8"
             ],
             [
              0.3333333333333333,
              "#9c179e"
             ],
             [
              0.4444444444444444,
              "#bd3786"
             ],
             [
              0.5555555555555556,
              "#d8576b"
             ],
             [
              0.6666666666666666,
              "#ed7953"
             ],
             [
              0.7777777777777778,
              "#fb9f3a"
             ],
             [
              0.8888888888888888,
              "#fdca26"
             ],
             [
              1,
              "#f0f921"
             ]
            ],
            "type": "histogram2dcontour"
           }
          ],
          "mesh3d": [
           {
            "colorbar": {
             "outlinewidth": 0,
             "ticks": ""
            },
            "type": "mesh3d"
           }
          ],
          "parcoords": [
           {
            "line": {
             "colorbar": {
              "outlinewidth": 0,
              "ticks": ""
             }
            },
            "type": "parcoords"
           }
          ],
          "pie": [
           {
            "automargin": true,
            "type": "pie"
           }
          ],
          "scatter": [
           {
            "fillpattern": {
             "fillmode": "overlay",
             "size": 10,
             "solidity": 0.2
            },
            "type": "scatter"
           }
          ],
          "scatter3d": [
           {
            "line": {
             "colorbar": {
              "outlinewidth": 0,
              "ticks": ""
             }
            },
            "marker": {
             "colorbar": {
              "outlinewidth": 0,
              "ticks": ""
             }
            },
            "type": "scatter3d"
           }
          ],
          "scattercarpet": [
           {
            "marker": {
             "colorbar": {
              "outlinewidth": 0,
              "ticks": ""
             }
            },
            "type": "scattercarpet"
           }
          ],
          "scattergeo": [
           {
            "marker": {
             "colorbar": {
              "outlinewidth": 0,
              "ticks": ""
             }
            },
            "type": "scattergeo"
           }
          ],
          "scattergl": [
           {
            "marker": {
             "colorbar": {
              "outlinewidth": 0,
              "ticks": ""
             }
            },
            "type": "scattergl"
           }
          ],
          "scattermapbox": [
           {
            "marker": {
             "colorbar": {
              "outlinewidth": 0,
              "ticks": ""
             }
            },
            "type": "scattermapbox"
           }
          ],
          "scatterpolar": [
           {
            "marker": {
             "colorbar": {
              "outlinewidth": 0,
              "ticks": ""
             }
            },
            "type": "scatterpolar"
           }
          ],
          "scatterpolargl": [
           {
            "marker": {
             "colorbar": {
              "outlinewidth": 0,
              "ticks": ""
             }
            },
            "type": "scatterpolargl"
           }
          ],
          "scatterternary": [
           {
            "marker": {
             "colorbar": {
              "outlinewidth": 0,
              "ticks": ""
             }
            },
            "type": "scatterternary"
           }
          ],
          "surface": [
           {
            "colorbar": {
             "outlinewidth": 0,
             "ticks": ""
            },
            "colorscale": [
             [
              0,
              "#0d0887"
             ],
             [
              0.1111111111111111,
              "#46039f"
             ],
             [
              0.2222222222222222,
              "#7201a8"
             ],
             [
              0.3333333333333333,
              "#9c179e"
             ],
             [
              0.4444444444444444,
              "#bd3786"
             ],
             [
              0.5555555555555556,
              "#d8576b"
             ],
             [
              0.6666666666666666,
              "#ed7953"
             ],
             [
              0.7777777777777778,
              "#fb9f3a"
             ],
             [
              0.8888888888888888,
              "#fdca26"
             ],
             [
              1,
              "#f0f921"
             ]
            ],
            "type": "surface"
           }
          ],
          "table": [
           {
            "cells": {
             "fill": {
              "color": "#EBF0F8"
             },
             "line": {
              "color": "white"
             }
            },
            "header": {
             "fill": {
              "color": "#C8D4E3"
             },
             "line": {
              "color": "white"
             }
            },
            "type": "table"
           }
          ]
         },
         "layout": {
          "annotationdefaults": {
           "arrowcolor": "#2a3f5f",
           "arrowhead": 0,
           "arrowwidth": 1
          },
          "autotypenumbers": "strict",
          "coloraxis": {
           "colorbar": {
            "outlinewidth": 0,
            "ticks": ""
           }
          },
          "colorscale": {
           "diverging": [
            [
             0,
             "#8e0152"
            ],
            [
             0.1,
             "#c51b7d"
            ],
            [
             0.2,
             "#de77ae"
            ],
            [
             0.3,
             "#f1b6da"
            ],
            [
             0.4,
             "#fde0ef"
            ],
            [
             0.5,
             "#f7f7f7"
            ],
            [
             0.6,
             "#e6f5d0"
            ],
            [
             0.7,
             "#b8e186"
            ],
            [
             0.8,
             "#7fbc41"
            ],
            [
             0.9,
             "#4d9221"
            ],
            [
             1,
             "#276419"
            ]
           ],
           "sequential": [
            [
             0,
             "#0d0887"
            ],
            [
             0.1111111111111111,
             "#46039f"
            ],
            [
             0.2222222222222222,
             "#7201a8"
            ],
            [
             0.3333333333333333,
             "#9c179e"
            ],
            [
             0.4444444444444444,
             "#bd3786"
            ],
            [
             0.5555555555555556,
             "#d8576b"
            ],
            [
             0.6666666666666666,
             "#ed7953"
            ],
            [
             0.7777777777777778,
             "#fb9f3a"
            ],
            [
             0.8888888888888888,
             "#fdca26"
            ],
            [
             1,
             "#f0f921"
            ]
           ],
           "sequentialminus": [
            [
             0,
             "#0d0887"
            ],
            [
             0.1111111111111111,
             "#46039f"
            ],
            [
             0.2222222222222222,
             "#7201a8"
            ],
            [
             0.3333333333333333,
             "#9c179e"
            ],
            [
             0.4444444444444444,
             "#bd3786"
            ],
            [
             0.5555555555555556,
             "#d8576b"
            ],
            [
             0.6666666666666666,
             "#ed7953"
            ],
            [
             0.7777777777777778,
             "#fb9f3a"
            ],
            [
             0.8888888888888888,
             "#fdca26"
            ],
            [
             1,
             "#f0f921"
            ]
           ]
          },
          "colorway": [
           "#636efa",
           "#EF553B",
           "#00cc96",
           "#ab63fa",
           "#FFA15A",
           "#19d3f3",
           "#FF6692",
           "#B6E880",
           "#FF97FF",
           "#FECB52"
          ],
          "font": {
           "color": "#2a3f5f"
          },
          "geo": {
           "bgcolor": "white",
           "lakecolor": "white",
           "landcolor": "#E5ECF6",
           "showlakes": true,
           "showland": true,
           "subunitcolor": "white"
          },
          "hoverlabel": {
           "align": "left"
          },
          "hovermode": "closest",
          "mapbox": {
           "style": "light"
          },
          "paper_bgcolor": "white",
          "plot_bgcolor": "#E5ECF6",
          "polar": {
           "angularaxis": {
            "gridcolor": "white",
            "linecolor": "white",
            "ticks": ""
           },
           "bgcolor": "#E5ECF6",
           "radialaxis": {
            "gridcolor": "white",
            "linecolor": "white",
            "ticks": ""
           }
          },
          "scene": {
           "xaxis": {
            "backgroundcolor": "#E5ECF6",
            "gridcolor": "white",
            "gridwidth": 2,
            "linecolor": "white",
            "showbackground": true,
            "ticks": "",
            "zerolinecolor": "white"
           },
           "yaxis": {
            "backgroundcolor": "#E5ECF6",
            "gridcolor": "white",
            "gridwidth": 2,
            "linecolor": "white",
            "showbackground": true,
            "ticks": "",
            "zerolinecolor": "white"
           },
           "zaxis": {
            "backgroundcolor": "#E5ECF6",
            "gridcolor": "white",
            "gridwidth": 2,
            "linecolor": "white",
            "showbackground": true,
            "ticks": "",
            "zerolinecolor": "white"
           }
          },
          "shapedefaults": {
           "line": {
            "color": "#2a3f5f"
           }
          },
          "ternary": {
           "aaxis": {
            "gridcolor": "white",
            "linecolor": "white",
            "ticks": ""
           },
           "baxis": {
            "gridcolor": "white",
            "linecolor": "white",
            "ticks": ""
           },
           "bgcolor": "#E5ECF6",
           "caxis": {
            "gridcolor": "white",
            "linecolor": "white",
            "ticks": ""
           }
          },
          "title": {
           "x": 0.05
          },
          "xaxis": {
           "automargin": true,
           "gridcolor": "white",
           "linecolor": "white",
           "ticks": "",
           "title": {
            "standoff": 15
           },
           "zerolinecolor": "white",
           "zerolinewidth": 2
          },
          "yaxis": {
           "automargin": true,
           "gridcolor": "white",
           "linecolor": "white",
           "ticks": "",
           "title": {
            "standoff": 15
           },
           "zerolinecolor": "white",
           "zerolinewidth": 2
          }
         }
        },
        "xaxis": {
         "title": {
          "text": "Batch"
         }
        },
        "yaxis": {
         "title": {
          "text": "Total Episode Return"
         }
        }
       }
      }
     },
     "metadata": {},
     "output_type": "display_data"
    }
   ],
   "source": [
    "sim.plot_learning_curves()"
   ]
  },
  {
   "cell_type": "code",
   "execution_count": 7,
   "metadata": {},
   "outputs": [
    {
     "data": {
      "text/html": [
       "<pre style=\"white-space:pre;overflow-x:auto;line-height:normal;font-family:Menlo,'DejaVu Sans Mono',consolas,'Courier New',monospace\"><span style=\"font-style: italic\">                       Simulation times                       </span>\n",
       "┏━━━━━━━━━━━━━━┳━━━━━━━━━━━━━━━━━━━━━┳━━━━━━━━━━━━━━━━━━━━━━━┓\n",
       "┃<span style=\"font-weight: bold\"> Level        </span>┃<span style=\"font-weight: bold\"> Mean(s)             </span>┃<span style=\"font-weight: bold\"> STD(s)                </span>┃\n",
       "┡━━━━━━━━━━━━━━╇━━━━━━━━━━━━━━━━━━━━━╇━━━━━━━━━━━━━━━━━━━━━━━┩\n",
       "│<span style=\"color: #008080; text-decoration-color: #008080\"> Optimization </span>│<span style=\"color: #008080; text-decoration-color: #008080\"> 0.02075670466423035 </span>│<span style=\"color: #008080; text-decoration-color: #008080\"> 0.001700334016565152  </span>│\n",
       "│<span style=\"color: #008080; text-decoration-color: #008080\"> Step         </span>│<span style=\"color: #008080; text-decoration-color: #008080\"> 0.05957710268497467 </span>│<span style=\"color: #008080; text-decoration-color: #008080\"> 0.0045810640569996595 </span>│\n",
       "│<span style=\"color: #008080; text-decoration-color: #008080\"> Batch        </span>│<span style=\"color: #008080; text-decoration-color: #008080\"> 16.75212166309357   </span>│<span style=\"color: #008080; text-decoration-color: #008080\"> 1.1049193948314588    </span>│\n",
       "│<span style=\"color: #008080; text-decoration-color: #008080\"> Simulation   </span>│<span style=\"color: #008080; text-decoration-color: #008080\"> 176.28628396987915  </span>│<span style=\"color: #008080; text-decoration-color: #008080\"> NA                    </span>│\n",
       "└──────────────┴─────────────────────┴───────────────────────┘\n",
       "</pre>\n"
      ],
      "text/plain": [
       "\u001b[3m                       Simulation times                       \u001b[0m\n",
       "┏━━━━━━━━━━━━━━┳━━━━━━━━━━━━━━━━━━━━━┳━━━━━━━━━━━━━━━━━━━━━━━┓\n",
       "┃\u001b[1m \u001b[0m\u001b[1mLevel       \u001b[0m\u001b[1m \u001b[0m┃\u001b[1m \u001b[0m\u001b[1mMean(s)            \u001b[0m\u001b[1m \u001b[0m┃\u001b[1m \u001b[0m\u001b[1mSTD(s)               \u001b[0m\u001b[1m \u001b[0m┃\n",
       "┡━━━━━━━━━━━━━━╇━━━━━━━━━━━━━━━━━━━━━╇━━━━━━━━━━━━━━━━━━━━━━━┩\n",
       "│\u001b[36m \u001b[0m\u001b[36mOptimization\u001b[0m\u001b[36m \u001b[0m│\u001b[36m \u001b[0m\u001b[36m0.02075670466423035\u001b[0m\u001b[36m \u001b[0m│\u001b[36m \u001b[0m\u001b[36m0.001700334016565152 \u001b[0m\u001b[36m \u001b[0m│\n",
       "│\u001b[36m \u001b[0m\u001b[36mStep        \u001b[0m\u001b[36m \u001b[0m│\u001b[36m \u001b[0m\u001b[36m0.05957710268497467\u001b[0m\u001b[36m \u001b[0m│\u001b[36m \u001b[0m\u001b[36m0.0045810640569996595\u001b[0m\u001b[36m \u001b[0m│\n",
       "│\u001b[36m \u001b[0m\u001b[36mBatch       \u001b[0m\u001b[36m \u001b[0m│\u001b[36m \u001b[0m\u001b[36m16.75212166309357  \u001b[0m\u001b[36m \u001b[0m│\u001b[36m \u001b[0m\u001b[36m1.1049193948314588   \u001b[0m\u001b[36m \u001b[0m│\n",
       "│\u001b[36m \u001b[0m\u001b[36mSimulation  \u001b[0m\u001b[36m \u001b[0m│\u001b[36m \u001b[0m\u001b[36m176.28628396987915 \u001b[0m\u001b[36m \u001b[0m│\u001b[36m \u001b[0m\u001b[36mNA                   \u001b[0m\u001b[36m \u001b[0m│\n",
       "└──────────────┴─────────────────────┴───────────────────────┘\n"
      ]
     },
     "metadata": {},
     "output_type": "display_data"
    },
    {
     "data": {
      "text/plain": [
       "[{'mean': 0.05957710268497467, 'std': 0.0045810640569996595},\n",
       " {'mean': 0.02075670466423035, 'std': 0.001700334016565152},\n",
       " {'mean': 16.75212166309357, 'std': 1.1049193948314588},\n",
       " {'mean': 176.28628396987915, 'std': 0.0}]"
      ]
     },
     "execution_count": 7,
     "metadata": {},
     "output_type": "execute_result"
    }
   ],
   "source": [
    "sim.print_training_times()"
   ]
  },
  {
   "cell_type": "code",
   "execution_count": null,
   "metadata": {},
   "outputs": [],
   "source": []
  }
 ],
 "metadata": {
  "kernelspec": {
   "display_name": "spamdfba",
   "language": "python",
   "name": "python3"
  },
  "language_info": {
   "codemirror_mode": {
    "name": "ipython",
    "version": 3
   },
   "file_extension": ".py",
   "mimetype": "text/x-python",
   "name": "python",
   "nbconvert_exporter": "python",
   "pygments_lexer": "ipython3",
   "version": "3.10.4"
  }
 },
 "nbformat": 4,
 "nbformat_minor": 2
}
