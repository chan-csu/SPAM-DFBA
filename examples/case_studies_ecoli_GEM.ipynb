{
 "cells": [
  {
   "cell_type": "markdown",
   "metadata": {},
   "source": [
    "# IJO1366-Tyr-Phe-Auxotrophs\n",
    "\n",
    "This notebook contains the simulation for IJO1366-Tyr-Phe-Auxotrophs environment where two Ecoli auxotroph agents are learning to interact from scratch. For this simulation we need to use faster LP solvers \n",
    "as we are dealing with very large metabolic models. Here we used Gurobi. \n",
    "\n",
    "***NOTE: For some reason this notebook stops at some point during the training with this enivronment. So we just run 20 batches to show how the steps work. One approach to run the full simulations with thousands of batches is to make the script below a .py file and run that from the terminal.***"
   ]
  },
  {
   "cell_type": "code",
   "execution_count": 5,
   "metadata": {},
   "outputs": [],
   "source": [
    "from spamdfba import toolkit as tk\n",
    "from spamdfba import toymodels as tm\n",
    "import torch\n",
    "import torch.nn as nn\n",
    "import numpy as np\n",
    "import pandas as pd\n",
    "import pickle\n",
    "import os\n",
    "import warnings\n",
    "import rich\n",
    "import json\n",
    "import cobra"
   ]
  },
  {
   "cell_type": "code",
   "execution_count": 6,
   "metadata": {},
   "outputs": [],
   "source": [
    "NUM_CORES = 8\n",
    "warnings.filterwarnings(\"ignore\")"
   ]
  },
  {
   "cell_type": "code",
   "execution_count": 7,
   "metadata": {},
   "outputs": [
    {
     "name": "stdout",
     "output_type": "stream",
     "text": [
      "Read LP format model from file /var/folders/jk/fr50qn391k794svhntbw333c0000gn/T/tmpguadhoys.lp\n",
      "Reading time = 0.01 seconds\n",
      ": 1805 rows, 5166 columns, 20366 nonzeros\n",
      "Read LP format model from file /var/folders/jk/fr50qn391k794svhntbw333c0000gn/T/tmp2aexrthh.lp\n",
      "Reading time = 0.01 seconds\n",
      ": 1805 rows, 5166 columns, 20366 nonzeros\n",
      "Read LP format model from file /var/folders/jk/fr50qn391k794svhntbw333c0000gn/T/tmp35fdp6yb.lp\n",
      "Reading time = 0.01 seconds\n",
      ": 1805 rows, 5166 columns, 20366 nonzeros\n"
     ]
    },
    {
     "data": {
      "text/html": [
       "<pre style=\"white-space:pre;overflow-x:auto;line-height:normal;font-family:Menlo,'DejaVu Sans Mono',consolas,'Courier New',monospace\"><span style=\"color: #008000; text-decoration-color: #008000\">Non of the KOs can grow without auxotrophy: Running </span><span style=\"color: #008000; text-decoration-color: #008000; font-weight: bold\">(</span><span style=\"color: #008000; text-decoration-color: #008000\">'tyrA'</span><span style=\"color: #008000; text-decoration-color: #008000\">, </span><span style=\"color: #008000; text-decoration-color: #008000\">'pheA'</span><span style=\"color: #008000; text-decoration-color: #008000; font-weight: bold\">)</span>\n",
       "</pre>\n"
      ],
      "text/plain": [
       "\u001b[32mNon of the KOs can grow without auxotrophy: Running \u001b[0m\u001b[1;32m(\u001b[0m\u001b[32m'tyrA'\u001b[0m\u001b[32m, \u001b[0m\u001b[32m'pheA'\u001b[0m\u001b[1;32m)\u001b[0m\n"
      ]
     },
     "metadata": {},
     "output_type": "display_data"
    }
   ],
   "source": [
    "model_base = cobra.io.read_sbml_model(\"iJO1366.xml\")\n",
    "medium = model_base.medium.copy()\n",
    "test_model = model_base.copy()\n",
    "\n",
    "knockouts_gene_names = [\n",
    "    \"tyrA\",\n",
    "    \"pheA\",\n",
    "]\n",
    "\n",
    "exchange_reactions = {\n",
    "    \"tyrA\": \"EX_tyr__L_e\",\n",
    "    \"pheA\": \"EX_phe__L_e\",\n",
    "}\n",
    "\n",
    "exchange_species = {}\n",
    "exchange_mets = {}\n",
    "for i in exchange_reactions.items():\n",
    "    exchange_mets[i[0]] = list(test_model.reactions.get_by_id(i[1]).metabolites.keys())[\n",
    "        0\n",
    "    ].id\n",
    "\n",
    "gene_ids = {}\n",
    "for ko_gene in knockouts_gene_names:\n",
    "    for gene in test_model.genes:\n",
    "        if gene.name == ko_gene:\n",
    "            gene_ids[ko_gene] = gene.id\n",
    "\n",
    "            \n",
    "\n",
    "\n",
    "\n",
    "\n",
    "ic={\n",
    "    key.lstrip(\"EX_\"):3 for key,val in model_base.medium.items() \n",
    "}\n",
    "\n",
    "ic['glc__D_e']=500\n",
    "ic['agent1']=0.1\n",
    "ic['agent2']=0.1\n",
    "for ko in [(\"tyrA\",\"pheA\")]:\n",
    "    model1 = model_base.copy()\n",
    "    model2 = model_base.copy()\n",
    "    model1.remove_reactions([model1.reactions.get_by_id('PPND')]) ## Tyrosine Mutant\n",
    "    model2.remove_reactions([model2.reactions.get_by_id('PPNDH')]) ## Phenylalanine Mutant\n",
    "    model1.exchange_reactions = tuple([model1.reactions.index(i) for i in model1.exchanges])\n",
    "    model2.exchange_reactions = tuple([model2.reactions.index(i) for i in model2.exchanges])\n",
    "    model1.biomass_ind=model1.reactions.index(\"BIOMASS_Ec_iJO1366_core_53p95M\")\n",
    "    model2.biomass_ind=model2.reactions.index(\"BIOMASS_Ec_iJO1366_core_53p95M\")\n",
    "    model1.solver = \"gurobi\"\n",
    "    model2.solver = \"gurobi\"\n",
    "    if model1.optimize().objective_value != 0 or model2.optimize().objective_value != 0:\n",
    "        rich.print(f\"[yellow]Skipping {ko} because at least one organism can grow without auxotrophy\")\n",
    "        continue\n",
    "    else:\n",
    "        rich.print(f\"[green]Non of the KOs can grow without auxotrophy: Running {ko}\")\n",
    "    ko_name = ko[0] + \"_\" + ko[1]\n",
    "    agent1 = tk.Agent(\n",
    "        \"agent1\",\n",
    "        model=model1,\n",
    "        actor_network=tk.NN,\n",
    "        critic_network=tk.NN,\n",
    "        clip=0.1,\n",
    "        lr_actor=0.0001,\n",
    "        lr_critic=0.001,\n",
    "        actor_var=0.05,\n",
    "        grad_updates=10,\n",
    "        optimizer_actor=torch.optim.Adam,\n",
    "        optimizer_critic=torch.optim.Adam,\n",
    "        observables=[\n",
    "            \"agent1\",\n",
    "            \"agent2\",\n",
    "            \"glc__D_e\",\n",
    "            *[i.replace(\"EX_\", \"\") for i in exchange_reactions.values()]\n",
    "        ],\n",
    "        actions=[i for i in exchange_reactions.values()],\n",
    "        gamma=1,\n",
    "    )\n",
    "    agent2 = tk.Agent(\n",
    "        \"agent2\",\n",
    "        model=model2,\n",
    "        actor_network=tk.NN,\n",
    "        critic_network=tk.NN,\n",
    "        clip=0.1,\n",
    "        lr_actor=0.0001,\n",
    "        lr_critic=0.001,\n",
    "        grad_updates=10,\n",
    "        actor_var=0.05,\n",
    "        optimizer_actor=torch.optim.Adam,\n",
    "        optimizer_critic=torch.optim.Adam,\n",
    "        observables=[\n",
    "            \"agent1\",\n",
    "            \"agent2\",\n",
    "            \"glc__D_e\",\n",
    "            *[i.replace(\"EX_\", \"\") for i in exchange_reactions.values()]\n",
    "        ],\n",
    "        actions=[i for i in exchange_reactions.values()],\n",
    "        gamma=1,\n",
    "    )\n",
    "    constants=list(ic.keys())\n",
    "    constants.remove(\"agent1\")\n",
    "    constants.remove(\"agent2\")\n",
    "    constants.remove(\"glc__D_e\")\n",
    "\n",
    "    env = tk.Environment(\n",
    "        \"IJO1366-Tyr-Phe-Auxotrophs\" ,\n",
    "        agents=[agent1, agent2],\n",
    "        dilution_rate=0,\n",
    "        extracellular_reactions=[],\n",
    "        initial_condition=ic,\n",
    "        inlet_conditions={},\n",
    "        dt=0.2,\n",
    "        episode_length=250,\n",
    "        number_of_batches=20,  ##TOBECHANGED\n",
    "        episodes_per_batch=4,\n",
    "        constant=constants,\n",
    "    )\n"
   ]
  },
  {
   "cell_type": "code",
   "execution_count": 8,
   "metadata": {},
   "outputs": [],
   "source": [
    "sim=tk.Simulation(name=env.name,\n",
    "                  env=env,\n",
    "                  save_dir=\"./Results/\",\n",
    "                  )"
   ]
  },
  {
   "cell_type": "code",
   "execution_count": 10,
   "metadata": {},
   "outputs": [
    {
     "name": "stdout",
     "output_type": "stream",
     "text": [
      "Hold on, bringing the creitc network to range ...\n",
      "Done!\n",
      "Hold on, bringing the creitc network to range ...\n",
      "Done!\n",
      "Batch 0 finished:\n",
      "agent1 return was:  6.029456564822457\n",
      "agent2 return was:  -215.10356613810933\n",
      "Batch 1 finished:\n",
      "agent1 return was:  6.257672236343053\n",
      "agent2 return was:  -219.3686632893535\n",
      "Batch 2 finished:\n",
      "agent1 return was:  5.611567319649102\n",
      "agent2 return was:  -217.4131249860677\n",
      "Batch 3 finished:\n",
      "agent1 return was:  5.749545596186158\n",
      "agent2 return was:  -215.9091263737684\n",
      "Batch 4 finished:\n",
      "agent1 return was:  5.707984978064208\n",
      "agent2 return was:  -214.38061595955145\n",
      "Batch 5 finished:\n",
      "agent1 return was:  7.31759687740003\n",
      "agent2 return was:  -208.9927747204154\n",
      "Batch 6 finished:\n",
      "agent1 return was:  8.375978775362817\n",
      "agent2 return was:  -205.01420905537717\n",
      "Batch 7 finished:\n",
      "agent1 return was:  11.813492199719676\n",
      "agent2 return was:  -207.67215773952944\n",
      "Batch 8 finished:\n",
      "agent1 return was:  9.162362946565667\n",
      "agent2 return was:  -200.52741722502083\n",
      "Batch 9 finished:\n",
      "agent1 return was:  12.642737882151867\n",
      "agent2 return was:  -196.88749335149078\n",
      "Batch 10 finished:\n",
      "agent1 return was:  11.788483724248422\n",
      "agent2 return was:  -190.73315563238157\n",
      "Batch 11 finished:\n",
      "agent1 return was:  10.186328603719298\n",
      "agent2 return was:  -191.91594484331827\n",
      "Batch 12 finished:\n",
      "agent1 return was:  14.293102492440505\n",
      "agent2 return was:  -183.12161973461264\n",
      "Batch 13 finished:\n",
      "agent1 return was:  12.160479019734053\n",
      "agent2 return was:  -183.6890090973937\n",
      "Batch 14 finished:\n",
      "agent1 return was:  17.421693911555913\n",
      "agent2 return was:  -171.0248006487937\n",
      "Batch 15 finished:\n",
      "agent1 return was:  17.357460193033205\n",
      "agent2 return was:  -168.7234793295208\n",
      "Batch 16 finished:\n",
      "agent1 return was:  22.042752665566113\n",
      "agent2 return was:  -161.0160997034889\n",
      "Batch 17 finished:\n",
      "agent1 return was:  16.528579873965576\n",
      "agent2 return was:  -164.76228629104892\n",
      "Batch 18 finished:\n",
      "agent1 return was:  20.490052862206653\n",
      "agent2 return was:  -152.69615142958398\n",
      "Batch 19 finished:\n",
      "agent1 return was:  33.053216985030225\n",
      "agent2 return was:  -143.2511400757652\n"
     ]
    }
   ],
   "source": [
    "sim.run()"
   ]
  },
  {
   "cell_type": "code",
   "execution_count": 14,
   "metadata": {},
   "outputs": [
    {
     "data": {
      "application/vnd.plotly.v1+json": {
       "config": {
        "plotlyServerURL": "https://plot.ly"
       },
       "data": [
        {
         "line": {
          "color": "rgb(31, 119, 180)"
         },
         "mode": "lines",
         "name": "agent1",
         "type": "scatter",
         "x": [
          0,
          1,
          2,
          3,
          4,
          5,
          6,
          7,
          8,
          9,
          10,
          11,
          12,
          13,
          14,
          15,
          16,
          17,
          18,
          19
         ],
         "y": [
          6.029456564822457,
          6.257672236343053,
          5.611567319649102,
          5.749545596186158,
          5.707984978064208,
          7.31759687740003,
          8.375978775362817,
          11.813492199719676,
          9.162362946565667,
          12.642737882151867,
          11.788483724248422,
          10.186328603719298,
          14.293102492440505,
          12.160479019734053,
          17.421693911555913,
          17.357460193033205,
          22.042752665566113,
          16.528579873965576,
          20.490052862206653,
          33.053216985030225
         ]
        },
        {
         "fill": "toself",
         "fillcolor": "rgba(31, 119, 180,0.2)",
         "hoverinfo": "skip",
         "line": {
          "color": "rgba(255,255,255,0)"
         },
         "showlegend": false,
         "type": "scatter",
         "x": [
          0,
          1,
          2,
          3,
          4,
          5,
          6,
          7,
          8,
          9,
          10,
          11,
          12,
          13,
          14,
          15,
          16,
          17,
          18,
          19,
          19,
          18,
          17,
          16,
          15,
          14,
          13,
          12,
          11,
          10,
          9,
          8,
          7,
          6,
          5,
          4,
          3,
          2,
          1,
          0
         ],
         "y": [
          7.192726201265589,
          9.957788812106259,
          6.305574646489525,
          7.132039944989016,
          6.892248830683765,
          9.144428750542804,
          10.31449439259709,
          18.887382080990754,
          10.316296639630803,
          21.783788698998762,
          13.752938671544253,
          11.406363958244395,
          22.21914121694683,
          13.538084391236803,
          20.416291330978076,
          20.492356672180975,
          33.599475024040885,
          18.10959449537976,
          23.60437531896728,
          37.51985405495172,
          27.511365334569298,
          17.80217827845037,
          14.624643815413396,
          13.821543657236425,
          15.837955011992012,
          13.233229837727531,
          10.467424987463133,
          10.300756220724882,
          8.988016519005779,
          10.011088634561652,
          7.621119164819806,
          6.834679377663763,
          5.385850307817343,
          7.2869383661998555,
          6.215623381367298,
          4.574588202178622,
          4.240922364272267,
          4.542081118729574,
          4.073079178059339,
          5.243861617830687
         ]
        },
        {
         "line": {
          "color": "rgb(255, 127, 14)"
         },
         "mode": "lines",
         "name": "agent2",
         "type": "scatter",
         "x": [
          0,
          1,
          2,
          3,
          4,
          5,
          6,
          7,
          8,
          9,
          10,
          11,
          12,
          13,
          14,
          15,
          16,
          17,
          18,
          19
         ],
         "y": [
          -215.10356613810933,
          -219.3686632893535,
          -217.4131249860677,
          -215.9091263737684,
          -214.38061595955145,
          -208.9927747204154,
          -205.01420905537717,
          -207.67215773952944,
          -200.52741722502083,
          -196.88749335149078,
          -190.73315563238157,
          -191.91594484331827,
          -183.12161973461264,
          -183.6890090973937,
          -171.0248006487937,
          -168.7234793295208,
          -161.0160997034889,
          -164.76228629104892,
          -152.69615142958398,
          -143.2511400757652
         ]
        },
        {
         "fill": "toself",
         "fillcolor": "rgba(255, 127, 14,0.2)",
         "hoverinfo": "skip",
         "line": {
          "color": "rgba(255,255,255,0)"
         },
         "showlegend": false,
         "type": "scatter",
         "x": [
          0,
          1,
          2,
          3,
          4,
          5,
          6,
          7,
          8,
          9,
          10,
          11,
          12,
          13,
          14,
          15,
          16,
          17,
          18,
          19,
          19,
          18,
          17,
          16,
          15,
          14,
          13,
          12,
          11,
          10,
          9,
          8,
          7,
          6,
          5,
          4,
          3,
          2,
          1,
          0
         ],
         "y": [
          -208.91969080030776,
          -211.82622797834009,
          -211.89988801881213,
          -208.8667958410763,
          -207.77722393073128,
          -204.59570424387024,
          -192.5543547995317,
          -197.9066162980103,
          -195.77783507521843,
          -191.38880582788738,
          -184.56926041372293,
          -189.59769442039055,
          -179.72452731251764,
          -179.16552333369026,
          -165.58138582770295,
          -162.85555309556725,
          -153.26908069719752,
          -153.68062514439075,
          -148.94959619694004,
          -136.56684181637166,
          -152.08073022127218,
          -155.24226795915635,
          -179.43985815164513,
          -169.70766953178577,
          -173.82911382837216,
          -183.4376040656134,
          -191.48958084727934,
          -188.6282801817142,
          -193.78848014065238,
          -197.78184711243108,
          -202.74748987422328,
          -209.90626159760916,
          -214.93532283278495,
          -209.89683197330208,
          -212.84438872777395,
          -219.96177305684807,
          -222.91560265691135,
          -222.94133260402015,
          -225.85315319531094,
          -219.89506615478072
         ]
        }
       ],
       "layout": {
        "template": {
         "data": {
          "bar": [
           {
            "error_x": {
             "color": "#2a3f5f"
            },
            "error_y": {
             "color": "#2a3f5f"
            },
            "marker": {
             "line": {
              "color": "#E5ECF6",
              "width": 0.5
             },
             "pattern": {
              "fillmode": "overlay",
              "size": 10,
              "solidity": 0.2
             }
            },
            "type": "bar"
           }
          ],
          "barpolar": [
           {
            "marker": {
             "line": {
              "color": "#E5ECF6",
              "width": 0.5
             },
             "pattern": {
              "fillmode": "overlay",
              "size": 10,
              "solidity": 0.2
             }
            },
            "type": "barpolar"
           }
          ],
          "carpet": [
           {
            "aaxis": {
             "endlinecolor": "#2a3f5f",
             "gridcolor": "white",
             "linecolor": "white",
             "minorgridcolor": "white",
             "startlinecolor": "#2a3f5f"
            },
            "baxis": {
             "endlinecolor": "#2a3f5f",
             "gridcolor": "white",
             "linecolor": "white",
             "minorgridcolor": "white",
             "startlinecolor": "#2a3f5f"
            },
            "type": "carpet"
           }
          ],
          "choropleth": [
           {
            "colorbar": {
             "outlinewidth": 0,
             "ticks": ""
            },
            "type": "choropleth"
           }
          ],
          "contour": [
           {
            "colorbar": {
             "outlinewidth": 0,
             "ticks": ""
            },
            "colorscale": [
             [
              0,
              "#0d0887"
             ],
             [
              0.1111111111111111,
              "#46039f"
             ],
             [
              0.2222222222222222,
              "#7201a8"
             ],
             [
              0.3333333333333333,
              "#9c179e"
             ],
             [
              0.4444444444444444,
              "#bd3786"
             ],
             [
              0.5555555555555556,
              "#d8576b"
             ],
             [
              0.6666666666666666,
              "#ed7953"
             ],
             [
              0.7777777777777778,
              "#fb9f3a"
             ],
             [
              0.8888888888888888,
              "#fdca26"
             ],
             [
              1,
              "#f0f921"
             ]
            ],
            "type": "contour"
           }
          ],
          "contourcarpet": [
           {
            "colorbar": {
             "outlinewidth": 0,
             "ticks": ""
            },
            "type": "contourcarpet"
           }
          ],
          "heatmap": [
           {
            "colorbar": {
             "outlinewidth": 0,
             "ticks": ""
            },
            "colorscale": [
             [
              0,
              "#0d0887"
             ],
             [
              0.1111111111111111,
              "#46039f"
             ],
             [
              0.2222222222222222,
              "#7201a8"
             ],
             [
              0.3333333333333333,
              "#9c179e"
             ],
             [
              0.4444444444444444,
              "#bd3786"
             ],
             [
              0.5555555555555556,
              "#d8576b"
             ],
             [
              0.6666666666666666,
              "#ed7953"
             ],
             [
              0.7777777777777778,
              "#fb9f3a"
             ],
             [
              0.8888888888888888,
              "#fdca26"
             ],
             [
              1,
              "#f0f921"
             ]
            ],
            "type": "heatmap"
           }
          ],
          "heatmapgl": [
           {
            "colorbar": {
             "outlinewidth": 0,
             "ticks": ""
            },
            "colorscale": [
             [
              0,
              "#0d0887"
             ],
             [
              0.1111111111111111,
              "#46039f"
             ],
             [
              0.2222222222222222,
              "#7201a8"
             ],
             [
              0.3333333333333333,
              "#9c179e"
             ],
             [
              0.4444444444444444,
              "#bd3786"
             ],
             [
              0.5555555555555556,
              "#d8576b"
             ],
             [
              0.6666666666666666,
              "#ed7953"
             ],
             [
              0.7777777777777778,
              "#fb9f3a"
             ],
             [
              0.8888888888888888,
              "#fdca26"
             ],
             [
              1,
              "#f0f921"
             ]
            ],
            "type": "heatmapgl"
           }
          ],
          "histogram": [
           {
            "marker": {
             "pattern": {
              "fillmode": "overlay",
              "size": 10,
              "solidity": 0.2
             }
            },
            "type": "histogram"
           }
          ],
          "histogram2d": [
           {
            "colorbar": {
             "outlinewidth": 0,
             "ticks": ""
            },
            "colorscale": [
             [
              0,
              "#0d0887"
             ],
             [
              0.1111111111111111,
              "#46039f"
             ],
             [
              0.2222222222222222,
              "#7201a8"
             ],
             [
              0.3333333333333333,
              "#9c179e"
             ],
             [
              0.4444444444444444,
              "#bd3786"
             ],
             [
              0.5555555555555556,
              "#d8576b"
             ],
             [
              0.6666666666666666,
              "#ed7953"
             ],
             [
              0.7777777777777778,
              "#fb9f3a"
             ],
             [
              0.8888888888888888,
              "#fdca26"
             ],
             [
              1,
              "#f0f921"
             ]
            ],
            "type": "histogram2d"
           }
          ],
          "histogram2dcontour": [
           {
            "colorbar": {
             "outlinewidth": 0,
             "ticks": ""
            },
            "colorscale": [
             [
              0,
              "#0d0887"
             ],
             [
              0.1111111111111111,
              "#46039f"
             ],
             [
              0.2222222222222222,
              "#7201a8"
             ],
             [
              0.3333333333333333,
              "#9c179e"
             ],
             [
              0.4444444444444444,
              "#bd3786"
             ],
             [
              0.5555555555555556,
              "#d8576b"
             ],
             [
              0.6666666666666666,
              "#ed7953"
             ],
             [
              0.7777777777777778,
              "#fb9f3a"
             ],
             [
              0.8888888888888888,
              "#fdca26"
             ],
             [
              1,
              "#f0f921"
             ]
            ],
            "type": "histogram2dcontour"
           }
          ],
          "mesh3d": [
           {
            "colorbar": {
             "outlinewidth": 0,
             "ticks": ""
            },
            "type": "mesh3d"
           }
          ],
          "parcoords": [
           {
            "line": {
             "colorbar": {
              "outlinewidth": 0,
              "ticks": ""
             }
            },
            "type": "parcoords"
           }
          ],
          "pie": [
           {
            "automargin": true,
            "type": "pie"
           }
          ],
          "scatter": [
           {
            "fillpattern": {
             "fillmode": "overlay",
             "size": 10,
             "solidity": 0.2
            },
            "type": "scatter"
           }
          ],
          "scatter3d": [
           {
            "line": {
             "colorbar": {
              "outlinewidth": 0,
              "ticks": ""
             }
            },
            "marker": {
             "colorbar": {
              "outlinewidth": 0,
              "ticks": ""
             }
            },
            "type": "scatter3d"
           }
          ],
          "scattercarpet": [
           {
            "marker": {
             "colorbar": {
              "outlinewidth": 0,
              "ticks": ""
             }
            },
            "type": "scattercarpet"
           }
          ],
          "scattergeo": [
           {
            "marker": {
             "colorbar": {
              "outlinewidth": 0,
              "ticks": ""
             }
            },
            "type": "scattergeo"
           }
          ],
          "scattergl": [
           {
            "marker": {
             "colorbar": {
              "outlinewidth": 0,
              "ticks": ""
             }
            },
            "type": "scattergl"
           }
          ],
          "scattermapbox": [
           {
            "marker": {
             "colorbar": {
              "outlinewidth": 0,
              "ticks": ""
             }
            },
            "type": "scattermapbox"
           }
          ],
          "scatterpolar": [
           {
            "marker": {
             "colorbar": {
              "outlinewidth": 0,
              "ticks": ""
             }
            },
            "type": "scatterpolar"
           }
          ],
          "scatterpolargl": [
           {
            "marker": {
             "colorbar": {
              "outlinewidth": 0,
              "ticks": ""
             }
            },
            "type": "scatterpolargl"
           }
          ],
          "scatterternary": [
           {
            "marker": {
             "colorbar": {
              "outlinewidth": 0,
              "ticks": ""
             }
            },
            "type": "scatterternary"
           }
          ],
          "surface": [
           {
            "colorbar": {
             "outlinewidth": 0,
             "ticks": ""
            },
            "colorscale": [
             [
              0,
              "#0d0887"
             ],
             [
              0.1111111111111111,
              "#46039f"
             ],
             [
              0.2222222222222222,
              "#7201a8"
             ],
             [
              0.3333333333333333,
              "#9c179e"
             ],
             [
              0.4444444444444444,
              "#bd3786"
             ],
             [
              0.5555555555555556,
              "#d8576b"
             ],
             [
              0.6666666666666666,
              "#ed7953"
             ],
             [
              0.7777777777777778,
              "#fb9f3a"
             ],
             [
              0.8888888888888888,
              "#fdca26"
             ],
             [
              1,
              "#f0f921"
             ]
            ],
            "type": "surface"
           }
          ],
          "table": [
           {
            "cells": {
             "fill": {
              "color": "#EBF0F8"
             },
             "line": {
              "color": "white"
             }
            },
            "header": {
             "fill": {
              "color": "#C8D4E3"
             },
             "line": {
              "color": "white"
             }
            },
            "type": "table"
           }
          ]
         },
         "layout": {
          "annotationdefaults": {
           "arrowcolor": "#2a3f5f",
           "arrowhead": 0,
           "arrowwidth": 1
          },
          "autotypenumbers": "strict",
          "coloraxis": {
           "colorbar": {
            "outlinewidth": 0,
            "ticks": ""
           }
          },
          "colorscale": {
           "diverging": [
            [
             0,
             "#8e0152"
            ],
            [
             0.1,
             "#c51b7d"
            ],
            [
             0.2,
             "#de77ae"
            ],
            [
             0.3,
             "#f1b6da"
            ],
            [
             0.4,
             "#fde0ef"
            ],
            [
             0.5,
             "#f7f7f7"
            ],
            [
             0.6,
             "#e6f5d0"
            ],
            [
             0.7,
             "#b8e186"
            ],
            [
             0.8,
             "#7fbc41"
            ],
            [
             0.9,
             "#4d9221"
            ],
            [
             1,
             "#276419"
            ]
           ],
           "sequential": [
            [
             0,
             "#0d0887"
            ],
            [
             0.1111111111111111,
             "#46039f"
            ],
            [
             0.2222222222222222,
             "#7201a8"
            ],
            [
             0.3333333333333333,
             "#9c179e"
            ],
            [
             0.4444444444444444,
             "#bd3786"
            ],
            [
             0.5555555555555556,
             "#d8576b"
            ],
            [
             0.6666666666666666,
             "#ed7953"
            ],
            [
             0.7777777777777778,
             "#fb9f3a"
            ],
            [
             0.8888888888888888,
             "#fdca26"
            ],
            [
             1,
             "#f0f921"
            ]
           ],
           "sequentialminus": [
            [
             0,
             "#0d0887"
            ],
            [
             0.1111111111111111,
             "#46039f"
            ],
            [
             0.2222222222222222,
             "#7201a8"
            ],
            [
             0.3333333333333333,
             "#9c179e"
            ],
            [
             0.4444444444444444,
             "#bd3786"
            ],
            [
             0.5555555555555556,
             "#d8576b"
            ],
            [
             0.6666666666666666,
             "#ed7953"
            ],
            [
             0.7777777777777778,
             "#fb9f3a"
            ],
            [
             0.8888888888888888,
             "#fdca26"
            ],
            [
             1,
             "#f0f921"
            ]
           ]
          },
          "colorway": [
           "#636efa",
           "#EF553B",
           "#00cc96",
           "#ab63fa",
           "#FFA15A",
           "#19d3f3",
           "#FF6692",
           "#B6E880",
           "#FF97FF",
           "#FECB52"
          ],
          "font": {
           "color": "#2a3f5f"
          },
          "geo": {
           "bgcolor": "white",
           "lakecolor": "white",
           "landcolor": "#E5ECF6",
           "showlakes": true,
           "showland": true,
           "subunitcolor": "white"
          },
          "hoverlabel": {
           "align": "left"
          },
          "hovermode": "closest",
          "mapbox": {
           "style": "light"
          },
          "paper_bgcolor": "white",
          "plot_bgcolor": "#E5ECF6",
          "polar": {
           "angularaxis": {
            "gridcolor": "white",
            "linecolor": "white",
            "ticks": ""
           },
           "bgcolor": "#E5ECF6",
           "radialaxis": {
            "gridcolor": "white",
            "linecolor": "white",
            "ticks": ""
           }
          },
          "scene": {
           "xaxis": {
            "backgroundcolor": "#E5ECF6",
            "gridcolor": "white",
            "gridwidth": 2,
            "linecolor": "white",
            "showbackground": true,
            "ticks": "",
            "zerolinecolor": "white"
           },
           "yaxis": {
            "backgroundcolor": "#E5ECF6",
            "gridcolor": "white",
            "gridwidth": 2,
            "linecolor": "white",
            "showbackground": true,
            "ticks": "",
            "zerolinecolor": "white"
           },
           "zaxis": {
            "backgroundcolor": "#E5ECF6",
            "gridcolor": "white",
            "gridwidth": 2,
            "linecolor": "white",
            "showbackground": true,
            "ticks": "",
            "zerolinecolor": "white"
           }
          },
          "shapedefaults": {
           "line": {
            "color": "#2a3f5f"
           }
          },
          "ternary": {
           "aaxis": {
            "gridcolor": "white",
            "linecolor": "white",
            "ticks": ""
           },
           "baxis": {
            "gridcolor": "white",
            "linecolor": "white",
            "ticks": ""
           },
           "bgcolor": "#E5ECF6",
           "caxis": {
            "gridcolor": "white",
            "linecolor": "white",
            "ticks": ""
           }
          },
          "title": {
           "x": 0.05
          },
          "xaxis": {
           "automargin": true,
           "gridcolor": "white",
           "linecolor": "white",
           "ticks": "",
           "title": {
            "standoff": 15
           },
           "zerolinecolor": "white",
           "zerolinewidth": 2
          },
          "yaxis": {
           "automargin": true,
           "gridcolor": "white",
           "linecolor": "white",
           "ticks": "",
           "title": {
            "standoff": 15
           },
           "zerolinecolor": "white",
           "zerolinewidth": 2
          }
         }
        },
        "xaxis": {
         "title": {
          "text": "Batch"
         }
        },
        "yaxis": {
         "title": {
          "text": "Total Episode Return"
         }
        }
       }
      }
     },
     "metadata": {},
     "output_type": "display_data"
    },
    {
     "data": {
      "application/vnd.plotly.v1+json": {
       "config": {
        "plotlyServerURL": "https://plot.ly"
       },
       "data": [
        {
         "line": {
          "color": "rgb(31, 119, 180)"
         },
         "mode": "lines",
         "name": "agent1",
         "type": "scatter",
         "x": [
          0,
          1,
          2,
          3,
          4,
          5,
          6,
          7,
          8,
          9,
          10,
          11,
          12,
          13,
          14,
          15,
          16,
          17,
          18,
          19
         ],
         "y": [
          6.029456564822457,
          6.257672236343053,
          5.611567319649102,
          5.749545596186158,
          5.707984978064208,
          7.31759687740003,
          8.375978775362817,
          11.813492199719676,
          9.162362946565667,
          12.642737882151867,
          11.788483724248422,
          10.186328603719298,
          14.293102492440505,
          12.160479019734053,
          17.421693911555913,
          17.357460193033205,
          22.042752665566113,
          16.528579873965576,
          20.490052862206653,
          33.053216985030225
         ]
        },
        {
         "fill": "toself",
         "fillcolor": "rgba(31, 119, 180,0.2)",
         "hoverinfo": "skip",
         "line": {
          "color": "rgba(255,255,255,0)"
         },
         "showlegend": false,
         "type": "scatter",
         "x": [
          0,
          1,
          2,
          3,
          4,
          5,
          6,
          7,
          8,
          9,
          10,
          11,
          12,
          13,
          14,
          15,
          16,
          17,
          18,
          19,
          19,
          18,
          17,
          16,
          15,
          14,
          13,
          12,
          11,
          10,
          9,
          8,
          7,
          6,
          5,
          4,
          3,
          2,
          1,
          0
         ],
         "y": [
          7.192726201265589,
          9.957788812106259,
          6.305574646489525,
          7.132039944989016,
          6.892248830683765,
          9.144428750542804,
          10.31449439259709,
          18.887382080990754,
          10.316296639630803,
          21.783788698998762,
          13.752938671544253,
          11.406363958244395,
          22.21914121694683,
          13.538084391236803,
          20.416291330978076,
          20.492356672180975,
          33.599475024040885,
          18.10959449537976,
          23.60437531896728,
          37.51985405495172,
          27.511365334569298,
          17.80217827845037,
          14.624643815413396,
          13.821543657236425,
          15.837955011992012,
          13.233229837727531,
          10.467424987463133,
          10.300756220724882,
          8.988016519005779,
          10.011088634561652,
          7.621119164819806,
          6.834679377663763,
          5.385850307817343,
          7.2869383661998555,
          6.215623381367298,
          4.574588202178622,
          4.240922364272267,
          4.542081118729574,
          4.073079178059339,
          5.243861617830687
         ]
        },
        {
         "line": {
          "color": "rgb(255, 127, 14)"
         },
         "mode": "lines",
         "name": "agent2",
         "type": "scatter",
         "x": [
          0,
          1,
          2,
          3,
          4,
          5,
          6,
          7,
          8,
          9,
          10,
          11,
          12,
          13,
          14,
          15,
          16,
          17,
          18,
          19
         ],
         "y": [
          -215.10356613810933,
          -219.3686632893535,
          -217.4131249860677,
          -215.9091263737684,
          -214.38061595955145,
          -208.9927747204154,
          -205.01420905537717,
          -207.67215773952944,
          -200.52741722502083,
          -196.88749335149078,
          -190.73315563238157,
          -191.91594484331827,
          -183.12161973461264,
          -183.6890090973937,
          -171.0248006487937,
          -168.7234793295208,
          -161.0160997034889,
          -164.76228629104892,
          -152.69615142958398,
          -143.2511400757652
         ]
        },
        {
         "fill": "toself",
         "fillcolor": "rgba(255, 127, 14,0.2)",
         "hoverinfo": "skip",
         "line": {
          "color": "rgba(255,255,255,0)"
         },
         "showlegend": false,
         "type": "scatter",
         "x": [
          0,
          1,
          2,
          3,
          4,
          5,
          6,
          7,
          8,
          9,
          10,
          11,
          12,
          13,
          14,
          15,
          16,
          17,
          18,
          19,
          19,
          18,
          17,
          16,
          15,
          14,
          13,
          12,
          11,
          10,
          9,
          8,
          7,
          6,
          5,
          4,
          3,
          2,
          1,
          0
         ],
         "y": [
          -208.91969080030776,
          -211.82622797834009,
          -211.89988801881213,
          -208.8667958410763,
          -207.77722393073128,
          -204.59570424387024,
          -192.5543547995317,
          -197.9066162980103,
          -195.77783507521843,
          -191.38880582788738,
          -184.56926041372293,
          -189.59769442039055,
          -179.72452731251764,
          -179.16552333369026,
          -165.58138582770295,
          -162.85555309556725,
          -153.26908069719752,
          -153.68062514439075,
          -148.94959619694004,
          -136.56684181637166,
          -152.08073022127218,
          -155.24226795915635,
          -179.43985815164513,
          -169.70766953178577,
          -173.82911382837216,
          -183.4376040656134,
          -191.48958084727934,
          -188.6282801817142,
          -193.78848014065238,
          -197.78184711243108,
          -202.74748987422328,
          -209.90626159760916,
          -214.93532283278495,
          -209.89683197330208,
          -212.84438872777395,
          -219.96177305684807,
          -222.91560265691135,
          -222.94133260402015,
          -225.85315319531094,
          -219.89506615478072
         ]
        }
       ],
       "layout": {
        "template": {
         "data": {
          "bar": [
           {
            "error_x": {
             "color": "#2a3f5f"
            },
            "error_y": {
             "color": "#2a3f5f"
            },
            "marker": {
             "line": {
              "color": "#E5ECF6",
              "width": 0.5
             },
             "pattern": {
              "fillmode": "overlay",
              "size": 10,
              "solidity": 0.2
             }
            },
            "type": "bar"
           }
          ],
          "barpolar": [
           {
            "marker": {
             "line": {
              "color": "#E5ECF6",
              "width": 0.5
             },
             "pattern": {
              "fillmode": "overlay",
              "size": 10,
              "solidity": 0.2
             }
            },
            "type": "barpolar"
           }
          ],
          "carpet": [
           {
            "aaxis": {
             "endlinecolor": "#2a3f5f",
             "gridcolor": "white",
             "linecolor": "white",
             "minorgridcolor": "white",
             "startlinecolor": "#2a3f5f"
            },
            "baxis": {
             "endlinecolor": "#2a3f5f",
             "gridcolor": "white",
             "linecolor": "white",
             "minorgridcolor": "white",
             "startlinecolor": "#2a3f5f"
            },
            "type": "carpet"
           }
          ],
          "choropleth": [
           {
            "colorbar": {
             "outlinewidth": 0,
             "ticks": ""
            },
            "type": "choropleth"
           }
          ],
          "contour": [
           {
            "colorbar": {
             "outlinewidth": 0,
             "ticks": ""
            },
            "colorscale": [
             [
              0,
              "#0d0887"
             ],
             [
              0.1111111111111111,
              "#46039f"
             ],
             [
              0.2222222222222222,
              "#7201a8"
             ],
             [
              0.3333333333333333,
              "#9c179e"
             ],
             [
              0.4444444444444444,
              "#bd3786"
             ],
             [
              0.5555555555555556,
              "#d8576b"
             ],
             [
              0.6666666666666666,
              "#ed7953"
             ],
             [
              0.7777777777777778,
              "#fb9f3a"
             ],
             [
              0.8888888888888888,
              "#fdca26"
             ],
             [
              1,
              "#f0f921"
             ]
            ],
            "type": "contour"
           }
          ],
          "contourcarpet": [
           {
            "colorbar": {
             "outlinewidth": 0,
             "ticks": ""
            },
            "type": "contourcarpet"
           }
          ],
          "heatmap": [
           {
            "colorbar": {
             "outlinewidth": 0,
             "ticks": ""
            },
            "colorscale": [
             [
              0,
              "#0d0887"
             ],
             [
              0.1111111111111111,
              "#46039f"
             ],
             [
              0.2222222222222222,
              "#7201a8"
             ],
             [
              0.3333333333333333,
              "#9c179e"
             ],
             [
              0.4444444444444444,
              "#bd3786"
             ],
             [
              0.5555555555555556,
              "#d8576b"
             ],
             [
              0.6666666666666666,
              "#ed7953"
             ],
             [
              0.7777777777777778,
              "#fb9f3a"
             ],
             [
              0.8888888888888888,
              "#fdca26"
             ],
             [
              1,
              "#f0f921"
             ]
            ],
            "type": "heatmap"
           }
          ],
          "heatmapgl": [
           {
            "colorbar": {
             "outlinewidth": 0,
             "ticks": ""
            },
            "colorscale": [
             [
              0,
              "#0d0887"
             ],
             [
              0.1111111111111111,
              "#46039f"
             ],
             [
              0.2222222222222222,
              "#7201a8"
             ],
             [
              0.3333333333333333,
              "#9c179e"
             ],
             [
              0.4444444444444444,
              "#bd3786"
             ],
             [
              0.5555555555555556,
              "#d8576b"
             ],
             [
              0.6666666666666666,
              "#ed7953"
             ],
             [
              0.7777777777777778,
              "#fb9f3a"
             ],
             [
              0.8888888888888888,
              "#fdca26"
             ],
             [
              1,
              "#f0f921"
             ]
            ],
            "type": "heatmapgl"
           }
          ],
          "histogram": [
           {
            "marker": {
             "pattern": {
              "fillmode": "overlay",
              "size": 10,
              "solidity": 0.2
             }
            },
            "type": "histogram"
           }
          ],
          "histogram2d": [
           {
            "colorbar": {
             "outlinewidth": 0,
             "ticks": ""
            },
            "colorscale": [
             [
              0,
              "#0d0887"
             ],
             [
              0.1111111111111111,
              "#46039f"
             ],
             [
              0.2222222222222222,
              "#7201a8"
             ],
             [
              0.3333333333333333,
              "#9c179e"
             ],
             [
              0.4444444444444444,
              "#bd3786"
             ],
             [
              0.5555555555555556,
              "#d8576b"
             ],
             [
              0.6666666666666666,
              "#ed7953"
             ],
             [
              0.7777777777777778,
              "#fb9f3a"
             ],
             [
              0.8888888888888888,
              "#fdca26"
             ],
             [
              1,
              "#f0f921"
             ]
            ],
            "type": "histogram2d"
           }
          ],
          "histogram2dcontour": [
           {
            "colorbar": {
             "outlinewidth": 0,
             "ticks": ""
            },
            "colorscale": [
             [
              0,
              "#0d0887"
             ],
             [
              0.1111111111111111,
              "#46039f"
             ],
             [
              0.2222222222222222,
              "#7201a8"
             ],
             [
              0.3333333333333333,
              "#9c179e"
             ],
             [
              0.4444444444444444,
              "#bd3786"
             ],
             [
              0.5555555555555556,
              "#d8576b"
             ],
             [
              0.6666666666666666,
              "#ed7953"
             ],
             [
              0.7777777777777778,
              "#fb9f3a"
             ],
             [
              0.8888888888888888,
              "#fdca26"
             ],
             [
              1,
              "#f0f921"
             ]
            ],
            "type": "histogram2dcontour"
           }
          ],
          "mesh3d": [
           {
            "colorbar": {
             "outlinewidth": 0,
             "ticks": ""
            },
            "type": "mesh3d"
           }
          ],
          "parcoords": [
           {
            "line": {
             "colorbar": {
              "outlinewidth": 0,
              "ticks": ""
             }
            },
            "type": "parcoords"
           }
          ],
          "pie": [
           {
            "automargin": true,
            "type": "pie"
           }
          ],
          "scatter": [
           {
            "fillpattern": {
             "fillmode": "overlay",
             "size": 10,
             "solidity": 0.2
            },
            "type": "scatter"
           }
          ],
          "scatter3d": [
           {
            "line": {
             "colorbar": {
              "outlinewidth": 0,
              "ticks": ""
             }
            },
            "marker": {
             "colorbar": {
              "outlinewidth": 0,
              "ticks": ""
             }
            },
            "type": "scatter3d"
           }
          ],
          "scattercarpet": [
           {
            "marker": {
             "colorbar": {
              "outlinewidth": 0,
              "ticks": ""
             }
            },
            "type": "scattercarpet"
           }
          ],
          "scattergeo": [
           {
            "marker": {
             "colorbar": {
              "outlinewidth": 0,
              "ticks": ""
             }
            },
            "type": "scattergeo"
           }
          ],
          "scattergl": [
           {
            "marker": {
             "colorbar": {
              "outlinewidth": 0,
              "ticks": ""
             }
            },
            "type": "scattergl"
           }
          ],
          "scattermapbox": [
           {
            "marker": {
             "colorbar": {
              "outlinewidth": 0,
              "ticks": ""
             }
            },
            "type": "scattermapbox"
           }
          ],
          "scatterpolar": [
           {
            "marker": {
             "colorbar": {
              "outlinewidth": 0,
              "ticks": ""
             }
            },
            "type": "scatterpolar"
           }
          ],
          "scatterpolargl": [
           {
            "marker": {
             "colorbar": {
              "outlinewidth": 0,
              "ticks": ""
             }
            },
            "type": "scatterpolargl"
           }
          ],
          "scatterternary": [
           {
            "marker": {
             "colorbar": {
              "outlinewidth": 0,
              "ticks": ""
             }
            },
            "type": "scatterternary"
           }
          ],
          "surface": [
           {
            "colorbar": {
             "outlinewidth": 0,
             "ticks": ""
            },
            "colorscale": [
             [
              0,
              "#0d0887"
             ],
             [
              0.1111111111111111,
              "#46039f"
             ],
             [
              0.2222222222222222,
              "#7201a8"
             ],
             [
              0.3333333333333333,
              "#9c179e"
             ],
             [
              0.4444444444444444,
              "#bd3786"
             ],
             [
              0.5555555555555556,
              "#d8576b"
             ],
             [
              0.6666666666666666,
              "#ed7953"
             ],
             [
              0.7777777777777778,
              "#fb9f3a"
             ],
             [
              0.8888888888888888,
              "#fdca26"
             ],
             [
              1,
              "#f0f921"
             ]
            ],
            "type": "surface"
           }
          ],
          "table": [
           {
            "cells": {
             "fill": {
              "color": "#EBF0F8"
             },
             "line": {
              "color": "white"
             }
            },
            "header": {
             "fill": {
              "color": "#C8D4E3"
             },
             "line": {
              "color": "white"
             }
            },
            "type": "table"
           }
          ]
         },
         "layout": {
          "annotationdefaults": {
           "arrowcolor": "#2a3f5f",
           "arrowhead": 0,
           "arrowwidth": 1
          },
          "autotypenumbers": "strict",
          "coloraxis": {
           "colorbar": {
            "outlinewidth": 0,
            "ticks": ""
           }
          },
          "colorscale": {
           "diverging": [
            [
             0,
             "#8e0152"
            ],
            [
             0.1,
             "#c51b7d"
            ],
            [
             0.2,
             "#de77ae"
            ],
            [
             0.3,
             "#f1b6da"
            ],
            [
             0.4,
             "#fde0ef"
            ],
            [
             0.5,
             "#f7f7f7"
            ],
            [
             0.6,
             "#e6f5d0"
            ],
            [
             0.7,
             "#b8e186"
            ],
            [
             0.8,
             "#7fbc41"
            ],
            [
             0.9,
             "#4d9221"
            ],
            [
             1,
             "#276419"
            ]
           ],
           "sequential": [
            [
             0,
             "#0d0887"
            ],
            [
             0.1111111111111111,
             "#46039f"
            ],
            [
             0.2222222222222222,
             "#7201a8"
            ],
            [
             0.3333333333333333,
             "#9c179e"
            ],
            [
             0.4444444444444444,
             "#bd3786"
            ],
            [
             0.5555555555555556,
             "#d8576b"
            ],
            [
             0.6666666666666666,
             "#ed7953"
            ],
            [
             0.7777777777777778,
             "#fb9f3a"
            ],
            [
             0.8888888888888888,
             "#fdca26"
            ],
            [
             1,
             "#f0f921"
            ]
           ],
           "sequentialminus": [
            [
             0,
             "#0d0887"
            ],
            [
             0.1111111111111111,
             "#46039f"
            ],
            [
             0.2222222222222222,
             "#7201a8"
            ],
            [
             0.3333333333333333,
             "#9c179e"
            ],
            [
             0.4444444444444444,
             "#bd3786"
            ],
            [
             0.5555555555555556,
             "#d8576b"
            ],
            [
             0.6666666666666666,
             "#ed7953"
            ],
            [
             0.7777777777777778,
             "#fb9f3a"
            ],
            [
             0.8888888888888888,
             "#fdca26"
            ],
            [
             1,
             "#f0f921"
            ]
           ]
          },
          "colorway": [
           "#636efa",
           "#EF553B",
           "#00cc96",
           "#ab63fa",
           "#FFA15A",
           "#19d3f3",
           "#FF6692",
           "#B6E880",
           "#FF97FF",
           "#FECB52"
          ],
          "font": {
           "color": "#2a3f5f"
          },
          "geo": {
           "bgcolor": "white",
           "lakecolor": "white",
           "landcolor": "#E5ECF6",
           "showlakes": true,
           "showland": true,
           "subunitcolor": "white"
          },
          "hoverlabel": {
           "align": "left"
          },
          "hovermode": "closest",
          "mapbox": {
           "style": "light"
          },
          "paper_bgcolor": "white",
          "plot_bgcolor": "#E5ECF6",
          "polar": {
           "angularaxis": {
            "gridcolor": "white",
            "linecolor": "white",
            "ticks": ""
           },
           "bgcolor": "#E5ECF6",
           "radialaxis": {
            "gridcolor": "white",
            "linecolor": "white",
            "ticks": ""
           }
          },
          "scene": {
           "xaxis": {
            "backgroundcolor": "#E5ECF6",
            "gridcolor": "white",
            "gridwidth": 2,
            "linecolor": "white",
            "showbackground": true,
            "ticks": "",
            "zerolinecolor": "white"
           },
           "yaxis": {
            "backgroundcolor": "#E5ECF6",
            "gridcolor": "white",
            "gridwidth": 2,
            "linecolor": "white",
            "showbackground": true,
            "ticks": "",
            "zerolinecolor": "white"
           },
           "zaxis": {
            "backgroundcolor": "#E5ECF6",
            "gridcolor": "white",
            "gridwidth": 2,
            "linecolor": "white",
            "showbackground": true,
            "ticks": "",
            "zerolinecolor": "white"
           }
          },
          "shapedefaults": {
           "line": {
            "color": "#2a3f5f"
           }
          },
          "ternary": {
           "aaxis": {
            "gridcolor": "white",
            "linecolor": "white",
            "ticks": ""
           },
           "baxis": {
            "gridcolor": "white",
            "linecolor": "white",
            "ticks": ""
           },
           "bgcolor": "#E5ECF6",
           "caxis": {
            "gridcolor": "white",
            "linecolor": "white",
            "ticks": ""
           }
          },
          "title": {
           "x": 0.05
          },
          "xaxis": {
           "automargin": true,
           "gridcolor": "white",
           "linecolor": "white",
           "ticks": "",
           "title": {
            "standoff": 15
           },
           "zerolinecolor": "white",
           "zerolinewidth": 2
          },
          "yaxis": {
           "automargin": true,
           "gridcolor": "white",
           "linecolor": "white",
           "ticks": "",
           "title": {
            "standoff": 15
           },
           "zerolinecolor": "white",
           "zerolinewidth": 2
          }
         }
        },
        "xaxis": {
         "title": {
          "text": "Batch"
         }
        },
        "yaxis": {
         "title": {
          "text": "Total Episode Return"
         }
        }
       }
      }
     },
     "metadata": {},
     "output_type": "display_data"
    }
   ],
   "source": [
    "sim.plot_learning_curves()"
   ]
  },
  {
   "cell_type": "code",
   "execution_count": 15,
   "metadata": {},
   "outputs": [
    {
     "data": {
      "text/html": [
       "<pre style=\"white-space:pre;overflow-x:auto;line-height:normal;font-family:Menlo,'DejaVu Sans Mono',consolas,'Courier New',monospace\"><span style=\"font-style: italic\">                       Simulation times                       </span>\n",
       "┏━━━━━━━━━━━━━━┳━━━━━━━━━━━━━━━━━━━━━┳━━━━━━━━━━━━━━━━━━━━━━━┓\n",
       "┃<span style=\"font-weight: bold\"> Level        </span>┃<span style=\"font-weight: bold\"> Mean(s)             </span>┃<span style=\"font-weight: bold\"> STD(s)                </span>┃\n",
       "┡━━━━━━━━━━━━━━╇━━━━━━━━━━━━━━━━━━━━━╇━━━━━━━━━━━━━━━━━━━━━━━┩\n",
       "│<span style=\"color: #008080; text-decoration-color: #008080\"> Optimization </span>│<span style=\"color: #008080; text-decoration-color: #008080\"> 0.02658179996609688 </span>│<span style=\"color: #008080; text-decoration-color: #008080\"> 0.0030197014186664397 </span>│\n",
       "│<span style=\"color: #008080; text-decoration-color: #008080\"> Step         </span>│<span style=\"color: #008080; text-decoration-color: #008080\"> 0.07203596585989    </span>│<span style=\"color: #008080; text-decoration-color: #008080\"> 0.007191726345120451  </span>│\n",
       "│<span style=\"color: #008080; text-decoration-color: #008080\"> Batch        </span>│<span style=\"color: #008080; text-decoration-color: #008080\"> 19.958823108673094  </span>│<span style=\"color: #008080; text-decoration-color: #008080\"> 1.8966723915975188    </span>│\n",
       "│<span style=\"color: #008080; text-decoration-color: #008080\"> Simulation   </span>│<span style=\"color: #008080; text-decoration-color: #008080\"> 404.4616482257843   </span>│<span style=\"color: #008080; text-decoration-color: #008080\"> NA                    </span>│\n",
       "└──────────────┴─────────────────────┴───────────────────────┘\n",
       "</pre>\n"
      ],
      "text/plain": [
       "\u001b[3m                       Simulation times                       \u001b[0m\n",
       "┏━━━━━━━━━━━━━━┳━━━━━━━━━━━━━━━━━━━━━┳━━━━━━━━━━━━━━━━━━━━━━━┓\n",
       "┃\u001b[1m \u001b[0m\u001b[1mLevel       \u001b[0m\u001b[1m \u001b[0m┃\u001b[1m \u001b[0m\u001b[1mMean(s)            \u001b[0m\u001b[1m \u001b[0m┃\u001b[1m \u001b[0m\u001b[1mSTD(s)               \u001b[0m\u001b[1m \u001b[0m┃\n",
       "┡━━━━━━━━━━━━━━╇━━━━━━━━━━━━━━━━━━━━━╇━━━━━━━━━━━━━━━━━━━━━━━┩\n",
       "│\u001b[36m \u001b[0m\u001b[36mOptimization\u001b[0m\u001b[36m \u001b[0m│\u001b[36m \u001b[0m\u001b[36m0.02658179996609688\u001b[0m\u001b[36m \u001b[0m│\u001b[36m \u001b[0m\u001b[36m0.0030197014186664397\u001b[0m\u001b[36m \u001b[0m│\n",
       "│\u001b[36m \u001b[0m\u001b[36mStep        \u001b[0m\u001b[36m \u001b[0m│\u001b[36m \u001b[0m\u001b[36m0.07203596585989   \u001b[0m\u001b[36m \u001b[0m│\u001b[36m \u001b[0m\u001b[36m0.007191726345120451 \u001b[0m\u001b[36m \u001b[0m│\n",
       "│\u001b[36m \u001b[0m\u001b[36mBatch       \u001b[0m\u001b[36m \u001b[0m│\u001b[36m \u001b[0m\u001b[36m19.958823108673094 \u001b[0m\u001b[36m \u001b[0m│\u001b[36m \u001b[0m\u001b[36m1.8966723915975188   \u001b[0m\u001b[36m \u001b[0m│\n",
       "│\u001b[36m \u001b[0m\u001b[36mSimulation  \u001b[0m\u001b[36m \u001b[0m│\u001b[36m \u001b[0m\u001b[36m404.4616482257843  \u001b[0m\u001b[36m \u001b[0m│\u001b[36m \u001b[0m\u001b[36mNA                   \u001b[0m\u001b[36m \u001b[0m│\n",
       "└──────────────┴─────────────────────┴───────────────────────┘\n"
      ]
     },
     "metadata": {},
     "output_type": "display_data"
    },
    {
     "data": {
      "text/plain": [
       "[{'mean': 0.07203596585989, 'std': 0.007191726345120451},\n",
       " {'mean': 0.02658179996609688, 'std': 0.0030197014186664397},\n",
       " {'mean': 19.958823108673094, 'std': 1.8966723915975188},\n",
       " {'mean': 404.4616482257843, 'std': 0.0}]"
      ]
     },
     "execution_count": 15,
     "metadata": {},
     "output_type": "execute_result"
    }
   ],
   "source": [
    "sim.print_training_times()"
   ]
  }
 ],
 "metadata": {
  "kernelspec": {
   "display_name": "Python 3 (ipykernel)",
   "language": "python",
   "name": "python3"
  },
  "language_info": {
   "codemirror_mode": {
    "name": "ipython",
    "version": 3
   },
   "file_extension": ".py",
   "mimetype": "text/x-python",
   "name": "python",
   "nbconvert_exporter": "python",
   "pygments_lexer": "ipython3",
   "version": "3.10.4"
  }
 },
 "nbformat": 4,
 "nbformat_minor": 4
}
